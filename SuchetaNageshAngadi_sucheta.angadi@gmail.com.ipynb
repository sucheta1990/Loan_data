{
 "cells": [
  {
   "cell_type": "code",
   "execution_count": 192,
   "id": "da73a775",
   "metadata": {},
   "outputs": [],
   "source": [
    "import pandas as pd\n",
    "import numpy as np\n",
    "import matplotlib.pyplot as plt\n",
    "import math\n"
   ]
  },
  {
   "cell_type": "code",
   "execution_count": 193,
   "id": "f48a75e5",
   "metadata": {},
   "outputs": [
    {
     "data": {
      "text/html": [
       "<div>\n",
       "<style scoped>\n",
       "    .dataframe tbody tr th:only-of-type {\n",
       "        vertical-align: middle;\n",
       "    }\n",
       "\n",
       "    .dataframe tbody tr th {\n",
       "        vertical-align: top;\n",
       "    }\n",
       "\n",
       "    .dataframe thead th {\n",
       "        text-align: right;\n",
       "    }\n",
       "</style>\n",
       "<table border=\"1\" class=\"dataframe\">\n",
       "  <thead>\n",
       "    <tr style=\"text-align: right;\">\n",
       "      <th></th>\n",
       "      <th>Application_ID</th>\n",
       "      <th>Gender</th>\n",
       "      <th>Married</th>\n",
       "      <th>Dependents</th>\n",
       "      <th>Education</th>\n",
       "      <th>Self_Employed</th>\n",
       "      <th>Credit_History</th>\n",
       "      <th>Property_Area</th>\n",
       "      <th>Income</th>\n",
       "      <th>Application_Status</th>\n",
       "    </tr>\n",
       "  </thead>\n",
       "  <tbody>\n",
       "    <tr>\n",
       "      <th>0</th>\n",
       "      <td>LP001002</td>\n",
       "      <td>Male</td>\n",
       "      <td>No</td>\n",
       "      <td>0</td>\n",
       "      <td>Graduate</td>\n",
       "      <td>No</td>\n",
       "      <td>1</td>\n",
       "      <td>Urban</td>\n",
       "      <td>medium</td>\n",
       "      <td>Y</td>\n",
       "    </tr>\n",
       "    <tr>\n",
       "      <th>1</th>\n",
       "      <td>LP001003</td>\n",
       "      <td>Male</td>\n",
       "      <td>Yes</td>\n",
       "      <td>1</td>\n",
       "      <td>Graduate</td>\n",
       "      <td>No</td>\n",
       "      <td>1</td>\n",
       "      <td>Rural</td>\n",
       "      <td>medium</td>\n",
       "      <td>N</td>\n",
       "    </tr>\n",
       "    <tr>\n",
       "      <th>2</th>\n",
       "      <td>LP001005</td>\n",
       "      <td>Male</td>\n",
       "      <td>Yes</td>\n",
       "      <td>0</td>\n",
       "      <td>Graduate</td>\n",
       "      <td>Yes</td>\n",
       "      <td>1</td>\n",
       "      <td>Urban</td>\n",
       "      <td>low</td>\n",
       "      <td>Y</td>\n",
       "    </tr>\n",
       "    <tr>\n",
       "      <th>3</th>\n",
       "      <td>LP001006</td>\n",
       "      <td>Male</td>\n",
       "      <td>Yes</td>\n",
       "      <td>0</td>\n",
       "      <td>Not Graduate</td>\n",
       "      <td>No</td>\n",
       "      <td>1</td>\n",
       "      <td>Urban</td>\n",
       "      <td>low</td>\n",
       "      <td>Y</td>\n",
       "    </tr>\n",
       "    <tr>\n",
       "      <th>4</th>\n",
       "      <td>LP001008</td>\n",
       "      <td>Male</td>\n",
       "      <td>No</td>\n",
       "      <td>0</td>\n",
       "      <td>Graduate</td>\n",
       "      <td>No</td>\n",
       "      <td>1</td>\n",
       "      <td>Urban</td>\n",
       "      <td>medium</td>\n",
       "      <td>Y</td>\n",
       "    </tr>\n",
       "  </tbody>\n",
       "</table>\n",
       "</div>"
      ],
      "text/plain": [
       "  Application_ID Gender Married Dependents     Education Self_Employed  \\\n",
       "0       LP001002   Male      No          0      Graduate            No   \n",
       "1       LP001003   Male     Yes          1      Graduate            No   \n",
       "2       LP001005   Male     Yes          0      Graduate           Yes   \n",
       "3       LP001006   Male     Yes          0  Not Graduate            No   \n",
       "4       LP001008   Male      No          0      Graduate            No   \n",
       "\n",
       "   Credit_History Property_Area  Income Application_Status  \n",
       "0               1         Urban  medium                  Y  \n",
       "1               1         Rural  medium                  N  \n",
       "2               1         Urban     low                  Y  \n",
       "3               1         Urban     low                  Y  \n",
       "4               1         Urban  medium                  Y  "
      ]
     },
     "execution_count": 193,
     "metadata": {},
     "output_type": "execute_result"
    }
   ],
   "source": [
    "loan=pd.read_json(\"loan_data.json\")\n",
    "loan.head()"
   ]
  },
  {
   "cell_type": "code",
   "execution_count": 194,
   "id": "2c7b330c",
   "metadata": {},
   "outputs": [
    {
     "data": {
      "text/plain": [
       "0"
      ]
     },
     "execution_count": 194,
     "metadata": {},
     "output_type": "execute_result"
    }
   ],
   "source": [
    "loan.duplicated().sum()"
   ]
  },
  {
   "cell_type": "code",
   "execution_count": 195,
   "id": "3738bfe5",
   "metadata": {},
   "outputs": [
    {
     "data": {
      "text/plain": [
       "511"
      ]
     },
     "execution_count": 195,
     "metadata": {},
     "output_type": "execute_result"
    }
   ],
   "source": [
    "loan.isnull().value_counts().sum()"
   ]
  },
  {
   "cell_type": "code",
   "execution_count": 196,
   "id": "cbee1a2b",
   "metadata": {},
   "outputs": [
    {
     "data": {
      "text/plain": [
       "(511, 10)"
      ]
     },
     "execution_count": 196,
     "metadata": {},
     "output_type": "execute_result"
    }
   ],
   "source": [
    "loan.shape"
   ]
  },
  {
   "cell_type": "code",
   "execution_count": 197,
   "id": "b87ea3f2",
   "metadata": {},
   "outputs": [],
   "source": [
    "# lets lable encode the cloumns in the dataset\n",
    "#from sklearn.preprocessing import LabelEncoder\n",
    "#lm=LabelEncoder()\n",
    "#loan['Gender']=lm.fit_transform(loan['Gender'])\n",
    "#loan['Married']=lm.fit_transform(loan['Married'])\n",
    "#loan['Education']=lm.fit_transform(loan['Education'])\n",
    "#loan['Self_Employed']=lm.fit_transform(loan['Self_Employed'])\n",
    "#loan['Property_Area']=lm.fit_transform(loan['Property_Area'])\n",
    "#loan['Income']=lm.fit_transform(loan['Income'])\n",
    "#loan['Application_Status']=lm.fit_transform(loan['Application_Status'])"
   ]
  },
  {
   "cell_type": "code",
   "execution_count": 198,
   "id": "baa09dbf",
   "metadata": {},
   "outputs": [
    {
     "data": {
      "text/html": [
       "<div>\n",
       "<style scoped>\n",
       "    .dataframe tbody tr th:only-of-type {\n",
       "        vertical-align: middle;\n",
       "    }\n",
       "\n",
       "    .dataframe tbody tr th {\n",
       "        vertical-align: top;\n",
       "    }\n",
       "\n",
       "    .dataframe thead th {\n",
       "        text-align: right;\n",
       "    }\n",
       "</style>\n",
       "<table border=\"1\" class=\"dataframe\">\n",
       "  <thead>\n",
       "    <tr style=\"text-align: right;\">\n",
       "      <th></th>\n",
       "      <th>Application_ID</th>\n",
       "      <th>Gender</th>\n",
       "      <th>Married</th>\n",
       "      <th>Dependents</th>\n",
       "      <th>Education</th>\n",
       "      <th>Self_Employed</th>\n",
       "      <th>Credit_History</th>\n",
       "      <th>Property_Area</th>\n",
       "      <th>Income</th>\n",
       "      <th>Application_Status</th>\n",
       "    </tr>\n",
       "  </thead>\n",
       "  <tbody>\n",
       "    <tr>\n",
       "      <th>0</th>\n",
       "      <td>LP001002</td>\n",
       "      <td>Male</td>\n",
       "      <td>No</td>\n",
       "      <td>0</td>\n",
       "      <td>Graduate</td>\n",
       "      <td>No</td>\n",
       "      <td>1</td>\n",
       "      <td>Urban</td>\n",
       "      <td>medium</td>\n",
       "      <td>Y</td>\n",
       "    </tr>\n",
       "    <tr>\n",
       "      <th>1</th>\n",
       "      <td>LP001003</td>\n",
       "      <td>Male</td>\n",
       "      <td>Yes</td>\n",
       "      <td>1</td>\n",
       "      <td>Graduate</td>\n",
       "      <td>No</td>\n",
       "      <td>1</td>\n",
       "      <td>Rural</td>\n",
       "      <td>medium</td>\n",
       "      <td>N</td>\n",
       "    </tr>\n",
       "    <tr>\n",
       "      <th>2</th>\n",
       "      <td>LP001005</td>\n",
       "      <td>Male</td>\n",
       "      <td>Yes</td>\n",
       "      <td>0</td>\n",
       "      <td>Graduate</td>\n",
       "      <td>Yes</td>\n",
       "      <td>1</td>\n",
       "      <td>Urban</td>\n",
       "      <td>low</td>\n",
       "      <td>Y</td>\n",
       "    </tr>\n",
       "    <tr>\n",
       "      <th>3</th>\n",
       "      <td>LP001006</td>\n",
       "      <td>Male</td>\n",
       "      <td>Yes</td>\n",
       "      <td>0</td>\n",
       "      <td>Not Graduate</td>\n",
       "      <td>No</td>\n",
       "      <td>1</td>\n",
       "      <td>Urban</td>\n",
       "      <td>low</td>\n",
       "      <td>Y</td>\n",
       "    </tr>\n",
       "    <tr>\n",
       "      <th>4</th>\n",
       "      <td>LP001008</td>\n",
       "      <td>Male</td>\n",
       "      <td>No</td>\n",
       "      <td>0</td>\n",
       "      <td>Graduate</td>\n",
       "      <td>No</td>\n",
       "      <td>1</td>\n",
       "      <td>Urban</td>\n",
       "      <td>medium</td>\n",
       "      <td>Y</td>\n",
       "    </tr>\n",
       "  </tbody>\n",
       "</table>\n",
       "</div>"
      ],
      "text/plain": [
       "  Application_ID Gender Married Dependents     Education Self_Employed  \\\n",
       "0       LP001002   Male      No          0      Graduate            No   \n",
       "1       LP001003   Male     Yes          1      Graduate            No   \n",
       "2       LP001005   Male     Yes          0      Graduate           Yes   \n",
       "3       LP001006   Male     Yes          0  Not Graduate            No   \n",
       "4       LP001008   Male      No          0      Graduate            No   \n",
       "\n",
       "   Credit_History Property_Area  Income Application_Status  \n",
       "0               1         Urban  medium                  Y  \n",
       "1               1         Rural  medium                  N  \n",
       "2               1         Urban     low                  Y  \n",
       "3               1         Urban     low                  Y  \n",
       "4               1         Urban  medium                  Y  "
      ]
     },
     "execution_count": 198,
     "metadata": {},
     "output_type": "execute_result"
    }
   ],
   "source": [
    "loan.head()"
   ]
  },
  {
   "cell_type": "code",
   "execution_count": 199,
   "id": "87292976",
   "metadata": {},
   "outputs": [
    {
     "name": "stdout",
     "output_type": "stream",
     "text": [
      "(0, 10) (0, 10)\n"
     ]
    }
   ],
   "source": [
    "# lets check the visualization of eac cloumns wrt application status\n",
    "#fig,axes=plt.subplots (4,2,figsize=(12,18))\n",
    "application_yes=loan[loan['Application_Status']==1]\n",
    "application_no=loan[loan['Application_Status']==0]\n",
    "print(application_yes.shape,application_no.shape)"
   ]
  },
  {
   "cell_type": "code",
   "execution_count": 200,
   "id": "5393b27c",
   "metadata": {},
   "outputs": [
    {
     "data": {
      "text/plain": [
       "([<matplotlib.axis.XTick at 0x20dc2b57fd0>,\n",
       "  <matplotlib.axis.XTick at 0x20dc2b57fa0>],\n",
       " [Text(0, 0, 'Application_approved'), Text(1, 0, 'Application_not_approved')])"
      ]
     },
     "execution_count": 200,
     "metadata": {},
     "output_type": "execute_result"
    },
    {
     "data": {
      "image/png": "[encoded data removed]",
      "text/plain": [
       "<Figure size 432x288 with 1 Axes>"
      ]
     },
     "metadata": {
      "needs_background": "light"
     },
     "output_type": "display_data"
    }
   ],
   "source": [
    "labels=['Application_approved',\"Application_not_approved\"]\n",
    "%matplotlib inline\n",
    "count_application_status=pd.value_counts(loan['Application_Status'])\n",
    "count_application_status.plot(kind='bar',rot=0)\n",
    "plt.xticks(range(2),labels)"
   ]
  },
  {
   "cell_type": "code",
   "execution_count": 201,
   "id": "29e32898",
   "metadata": {},
   "outputs": [
    {
     "name": "stdout",
     "output_type": "stream",
     "text": [
      "Counter({'Application_ID': 1, 'Gender': 1, 'Married': 1, 'Dependents': 1, 'Education': 1, 'Self_Employed': 1, 'Credit_History': 1, 'Property_Area': 1, 'Income': 1, 'Application_Status': 1})\n"
     ]
    }
   ],
   "source": [
    "from collections import Counter\n",
    "from sklearn.datasets import make_classification\n",
    "from matplotlib import pyplot as plt\n",
    "from numpy import where\n",
    "from imblearn.under_sampling import RandomUnderSampler\n",
    "#dfine dataset\n",
    "X_1,Y_1=make_classification(n_samples=511,weights=[0.99],flip_y=0)\n",
    "#summarise the classification\n",
    "print(Counter(loan))"
   ]
  },
  {
   "cell_type": "code",
   "execution_count": 238,
   "id": "ac408d8d",
   "metadata": {},
   "outputs": [
    {
     "name": "stdout",
     "output_type": "stream",
     "text": [
      "Counter({0: 5, 1: 5})\n"
     ]
    }
   ],
   "source": [
    "undersample=RandomUnderSampler(sampling_strategy='majority')\n",
    "X_under,Y_under=undersample.fit_resample(X_1,Y_1)\n",
    "print(Counter(Y_under))"
   ]
  },
  {
   "cell_type": "code",
   "execution_count": 239,
   "id": "8f403de0",
   "metadata": {},
   "outputs": [
    {
     "data": {
      "text/plain": [
       "([<matplotlib.axis.XTick at 0x20dc2b1e9d0>,\n",
       "  <matplotlib.axis.XTick at 0x20dc2b1e9a0>],\n",
       " [Text(0, 0, 'Application_approved'), Text(1, 0, 'Application_not_approved')])"
      ]
     },
     "execution_count": 239,
     "metadata": {},
     "output_type": "execute_result"
    },
    {
     "data": {
      "image/png": "[encoded data removed]",
      "text/plain": [
       "<Figure size 432x288 with 1 Axes>"
      ]
     },
     "metadata": {
      "needs_background": "light"
     },
     "output_type": "display_data"
    }
   ],
   "source": [
    "labels=['Application_approved',\"Application_not_approved\"]\n",
    "%matplotlib inline\n",
    "count_application_status=pd.value_counts(Y_under)\n",
    "count_application_status.plot(kind='bar',rot=0)\n",
    "plt.xticks(range(2),labels)"
   ]
  },
  {
   "cell_type": "code",
   "execution_count": 204,
   "id": "aa9d0355",
   "metadata": {},
   "outputs": [
    {
     "data": {
      "image/png": "[encoded data removed]",
      "text/plain": [
       "<Figure size 864x1296 with 8 Axes>"
      ]
     },
     "metadata": {
      "needs_background": "light"
     },
     "output_type": "display_data"
    }
   ],
   "source": [
    " import seaborn as sns\n",
    "fig,axes=plt.subplots(4,2,figsize=(12,18))\n",
    "for id, i in enumerate(loan([['Gender','Married','Dependents','Education','Self_Employed','Credit_History','Property_Area','Income']]):\n",
    "    row,col=id//2,id%2\n",
    "    sns.countplot(x=i,data=loan,hue='Application_Status',ax=axes[row,col])\n",
    "    plt.subplots_adjust(hspace=1)\n"
   ]
  },
  {
   "cell_type": "markdown",
   "id": "c8b4b50c",
   "metadata": {},
   "source": [
    "# Ques 1:\n",
    ". Find % of total applicants for each unique value of dependents."
   ]
  },
  {
   "cell_type": "code",
   "execution_count": 205,
   "id": "f3948629",
   "metadata": {},
   "outputs": [],
   "source": [
    "loan['Dependents'].replace(to_replace='3+',value='3',inplace=True)"
   ]
  },
  {
   "cell_type": "code",
   "execution_count": 206,
   "id": "02741d0b",
   "metadata": {},
   "outputs": [
    {
     "data": {
      "text/html": [
       "<div>\n",
       "<style scoped>\n",
       "    .dataframe tbody tr th:only-of-type {\n",
       "        vertical-align: middle;\n",
       "    }\n",
       "\n",
       "    .dataframe tbody tr th {\n",
       "        vertical-align: top;\n",
       "    }\n",
       "\n",
       "    .dataframe thead th {\n",
       "        text-align: right;\n",
       "    }\n",
       "</style>\n",
       "<table border=\"1\" class=\"dataframe\">\n",
       "  <thead>\n",
       "    <tr style=\"text-align: right;\">\n",
       "      <th></th>\n",
       "      <th>Application_ID</th>\n",
       "      <th>Gender</th>\n",
       "      <th>Married</th>\n",
       "      <th>Education</th>\n",
       "      <th>Self_Employed</th>\n",
       "      <th>Credit_History</th>\n",
       "      <th>Property_Area</th>\n",
       "      <th>Income</th>\n",
       "      <th>Application_Status</th>\n",
       "    </tr>\n",
       "    <tr>\n",
       "      <th>Dependents</th>\n",
       "      <th></th>\n",
       "      <th></th>\n",
       "      <th></th>\n",
       "      <th></th>\n",
       "      <th></th>\n",
       "      <th></th>\n",
       "      <th></th>\n",
       "      <th></th>\n",
       "      <th></th>\n",
       "    </tr>\n",
       "  </thead>\n",
       "  <tbody>\n",
       "    <tr>\n",
       "      <th>0</th>\n",
       "      <td>294</td>\n",
       "      <td>294</td>\n",
       "      <td>294</td>\n",
       "      <td>294</td>\n",
       "      <td>294</td>\n",
       "      <td>294</td>\n",
       "      <td>294</td>\n",
       "      <td>294</td>\n",
       "      <td>294</td>\n",
       "    </tr>\n",
       "    <tr>\n",
       "      <th>1</th>\n",
       "      <td>85</td>\n",
       "      <td>85</td>\n",
       "      <td>85</td>\n",
       "      <td>85</td>\n",
       "      <td>85</td>\n",
       "      <td>85</td>\n",
       "      <td>85</td>\n",
       "      <td>85</td>\n",
       "      <td>85</td>\n",
       "    </tr>\n",
       "    <tr>\n",
       "      <th>2</th>\n",
       "      <td>88</td>\n",
       "      <td>88</td>\n",
       "      <td>88</td>\n",
       "      <td>88</td>\n",
       "      <td>88</td>\n",
       "      <td>88</td>\n",
       "      <td>88</td>\n",
       "      <td>88</td>\n",
       "      <td>88</td>\n",
       "    </tr>\n",
       "    <tr>\n",
       "      <th>3</th>\n",
       "      <td>44</td>\n",
       "      <td>44</td>\n",
       "      <td>44</td>\n",
       "      <td>44</td>\n",
       "      <td>44</td>\n",
       "      <td>44</td>\n",
       "      <td>44</td>\n",
       "      <td>44</td>\n",
       "      <td>44</td>\n",
       "    </tr>\n",
       "  </tbody>\n",
       "</table>\n",
       "</div>"
      ],
      "text/plain": [
       "            Application_ID  Gender  Married  Education  Self_Employed  \\\n",
       "Dependents                                                              \n",
       "0                      294     294      294        294            294   \n",
       "1                       85      85       85         85             85   \n",
       "2                       88      88       88         88             88   \n",
       "3                       44      44       44         44             44   \n",
       "\n",
       "            Credit_History  Property_Area  Income  Application_Status  \n",
       "Dependents                                                             \n",
       "0                      294            294     294                 294  \n",
       "1                       85             85      85                  85  \n",
       "2                       88             88      88                  88  \n",
       "3                       44             44      44                  44  "
      ]
     },
     "execution_count": 206,
     "metadata": {},
     "output_type": "execute_result"
    }
   ],
   "source": [
    "unique_dependents=loan.groupby(loan.Dependents)\n",
    "unique_dependents.count()"
   ]
  },
  {
   "cell_type": "code",
   "execution_count": 207,
   "id": "ccabe81b",
   "metadata": {},
   "outputs": [
    {
     "name": "stdout",
     "output_type": "stream",
     "text": [
      "58 %of total applicatants with 0 unique dependents\n",
      "17 %of total applicatants with 1 unique dependents\n",
      "17 %of total applicatants with 2 unique dependents\n",
      "9 %of total applicatants with 3+ unique dependents\n"
     ]
    }
   ],
   "source": [
    "print(round(294/511*100),'%of total applicatants with 0 unique dependents')\n",
    "print(round(85/511*100),'%of total applicatants with 1 unique dependents')\n",
    "print(round(88/511*100),'%of total applicatants with 2 unique dependents')\n",
    "print(round(44/511*100),'%of total applicatants with 3+ unique dependents')\n"
   ]
  },
  {
   "cell_type": "markdown",
   "id": "a110f32b",
   "metadata": {},
   "source": [
    "# Ques 2:\n",
    ". Find the %of applications approved for self-employed applicants"
   ]
  },
  {
   "cell_type": "code",
   "execution_count": 208,
   "id": "8e31a286",
   "metadata": {},
   "outputs": [
    {
     "data": {
      "text/html": [
       "<div>\n",
       "<style scoped>\n",
       "    .dataframe tbody tr th:only-of-type {\n",
       "        vertical-align: middle;\n",
       "    }\n",
       "\n",
       "    .dataframe tbody tr th {\n",
       "        vertical-align: top;\n",
       "    }\n",
       "\n",
       "    .dataframe thead th {\n",
       "        text-align: right;\n",
       "    }\n",
       "</style>\n",
       "<table border=\"1\" class=\"dataframe\">\n",
       "  <thead>\n",
       "    <tr style=\"text-align: right;\">\n",
       "      <th></th>\n",
       "      <th></th>\n",
       "      <th>Application_ID</th>\n",
       "      <th>Gender</th>\n",
       "      <th>Married</th>\n",
       "      <th>Dependents</th>\n",
       "      <th>Education</th>\n",
       "      <th>Credit_History</th>\n",
       "      <th>Property_Area</th>\n",
       "      <th>Income</th>\n",
       "    </tr>\n",
       "    <tr>\n",
       "      <th>Self_Employed</th>\n",
       "      <th>Application_Status</th>\n",
       "      <th></th>\n",
       "      <th></th>\n",
       "      <th></th>\n",
       "      <th></th>\n",
       "      <th></th>\n",
       "      <th></th>\n",
       "      <th></th>\n",
       "      <th></th>\n",
       "    </tr>\n",
       "  </thead>\n",
       "  <tbody>\n",
       "    <tr>\n",
       "      <th rowspan=\"2\" valign=\"top\">No</th>\n",
       "      <th>N</th>\n",
       "      <td>140</td>\n",
       "      <td>140</td>\n",
       "      <td>140</td>\n",
       "      <td>140</td>\n",
       "      <td>140</td>\n",
       "      <td>140</td>\n",
       "      <td>140</td>\n",
       "      <td>140</td>\n",
       "    </tr>\n",
       "    <tr>\n",
       "      <th>Y</th>\n",
       "      <td>301</td>\n",
       "      <td>301</td>\n",
       "      <td>301</td>\n",
       "      <td>301</td>\n",
       "      <td>301</td>\n",
       "      <td>301</td>\n",
       "      <td>301</td>\n",
       "      <td>301</td>\n",
       "    </tr>\n",
       "    <tr>\n",
       "      <th rowspan=\"2\" valign=\"top\">Yes</th>\n",
       "      <th>N</th>\n",
       "      <td>24</td>\n",
       "      <td>24</td>\n",
       "      <td>24</td>\n",
       "      <td>24</td>\n",
       "      <td>24</td>\n",
       "      <td>24</td>\n",
       "      <td>24</td>\n",
       "      <td>24</td>\n",
       "    </tr>\n",
       "    <tr>\n",
       "      <th>Y</th>\n",
       "      <td>46</td>\n",
       "      <td>46</td>\n",
       "      <td>46</td>\n",
       "      <td>46</td>\n",
       "      <td>46</td>\n",
       "      <td>46</td>\n",
       "      <td>46</td>\n",
       "      <td>46</td>\n",
       "    </tr>\n",
       "  </tbody>\n",
       "</table>\n",
       "</div>"
      ],
      "text/plain": [
       "                                  Application_ID  Gender  Married  Dependents  \\\n",
       "Self_Employed Application_Status                                                \n",
       "No            N                              140     140      140         140   \n",
       "              Y                              301     301      301         301   \n",
       "Yes           N                               24      24       24          24   \n",
       "              Y                               46      46       46          46   \n",
       "\n",
       "                                  Education  Credit_History  Property_Area  \\\n",
       "Self_Employed Application_Status                                             \n",
       "No            N                         140             140            140   \n",
       "              Y                         301             301            301   \n",
       "Yes           N                          24              24             24   \n",
       "              Y                          46              46             46   \n",
       "\n",
       "                                  Income  \n",
       "Self_Employed Application_Status          \n",
       "No            N                      140  \n",
       "              Y                      301  \n",
       "Yes           N                       24  \n",
       "              Y                       46  "
      ]
     },
     "execution_count": 208,
     "metadata": {},
     "output_type": "execute_result"
    }
   ],
   "source": [
    "loan.groupby(['Self_Employed','Application_Status']).count()\n"
   ]
  },
  {
   "cell_type": "code",
   "execution_count": 209,
   "id": "017e4d89",
   "metadata": {},
   "outputs": [
    {
     "name": "stdout",
     "output_type": "stream",
     "text": [
      "9  % = total applications approved to self_employed Applicants\n"
     ]
    }
   ],
   "source": [
    "print(round(46/511*100),' % = total applications approved to self_employed Applicants')"
   ]
  },
  {
   "cell_type": "markdown",
   "id": "ef9e41f1",
   "metadata": {},
   "source": [
    "# Ques 3:\n",
    "What is the % of rejections for married male applicants?"
   ]
  },
  {
   "cell_type": "code",
   "execution_count": 210,
   "id": "8c831258",
   "metadata": {},
   "outputs": [
    {
     "data": {
      "text/html": [
       "<div>\n",
       "<style scoped>\n",
       "    .dataframe tbody tr th:only-of-type {\n",
       "        vertical-align: middle;\n",
       "    }\n",
       "\n",
       "    .dataframe tbody tr th {\n",
       "        vertical-align: top;\n",
       "    }\n",
       "\n",
       "    .dataframe thead th {\n",
       "        text-align: right;\n",
       "    }\n",
       "</style>\n",
       "<table border=\"1\" class=\"dataframe\">\n",
       "  <thead>\n",
       "    <tr style=\"text-align: right;\">\n",
       "      <th></th>\n",
       "      <th></th>\n",
       "      <th></th>\n",
       "      <th>Application_ID</th>\n",
       "      <th>Dependents</th>\n",
       "      <th>Education</th>\n",
       "      <th>Self_Employed</th>\n",
       "      <th>Credit_History</th>\n",
       "      <th>Property_Area</th>\n",
       "      <th>Income</th>\n",
       "    </tr>\n",
       "    <tr>\n",
       "      <th>Married</th>\n",
       "      <th>Gender</th>\n",
       "      <th>Application_Status</th>\n",
       "      <th></th>\n",
       "      <th></th>\n",
       "      <th></th>\n",
       "      <th></th>\n",
       "      <th></th>\n",
       "      <th></th>\n",
       "      <th></th>\n",
       "    </tr>\n",
       "  </thead>\n",
       "  <tbody>\n",
       "    <tr>\n",
       "      <th rowspan=\"4\" valign=\"top\">No</th>\n",
       "      <th rowspan=\"2\" valign=\"top\">Female</th>\n",
       "      <th>N</th>\n",
       "      <td>26</td>\n",
       "      <td>26</td>\n",
       "      <td>26</td>\n",
       "      <td>26</td>\n",
       "      <td>26</td>\n",
       "      <td>26</td>\n",
       "      <td>26</td>\n",
       "    </tr>\n",
       "    <tr>\n",
       "      <th>Y</th>\n",
       "      <td>40</td>\n",
       "      <td>40</td>\n",
       "      <td>40</td>\n",
       "      <td>40</td>\n",
       "      <td>40</td>\n",
       "      <td>40</td>\n",
       "      <td>40</td>\n",
       "    </tr>\n",
       "    <tr>\n",
       "      <th rowspan=\"2\" valign=\"top\">Male</th>\n",
       "      <th>N</th>\n",
       "      <td>43</td>\n",
       "      <td>43</td>\n",
       "      <td>43</td>\n",
       "      <td>43</td>\n",
       "      <td>43</td>\n",
       "      <td>43</td>\n",
       "      <td>43</td>\n",
       "    </tr>\n",
       "    <tr>\n",
       "      <th>Y</th>\n",
       "      <td>71</td>\n",
       "      <td>71</td>\n",
       "      <td>71</td>\n",
       "      <td>71</td>\n",
       "      <td>71</td>\n",
       "      <td>71</td>\n",
       "      <td>71</td>\n",
       "    </tr>\n",
       "    <tr>\n",
       "      <th rowspan=\"4\" valign=\"top\">Yes</th>\n",
       "      <th rowspan=\"2\" valign=\"top\">Female</th>\n",
       "      <th>N</th>\n",
       "      <td>8</td>\n",
       "      <td>8</td>\n",
       "      <td>8</td>\n",
       "      <td>8</td>\n",
       "      <td>8</td>\n",
       "      <td>8</td>\n",
       "      <td>8</td>\n",
       "    </tr>\n",
       "    <tr>\n",
       "      <th>Y</th>\n",
       "      <td>17</td>\n",
       "      <td>17</td>\n",
       "      <td>17</td>\n",
       "      <td>17</td>\n",
       "      <td>17</td>\n",
       "      <td>17</td>\n",
       "      <td>17</td>\n",
       "    </tr>\n",
       "    <tr>\n",
       "      <th rowspan=\"2\" valign=\"top\">Male</th>\n",
       "      <th>N</th>\n",
       "      <td>87</td>\n",
       "      <td>87</td>\n",
       "      <td>87</td>\n",
       "      <td>87</td>\n",
       "      <td>87</td>\n",
       "      <td>87</td>\n",
       "      <td>87</td>\n",
       "    </tr>\n",
       "    <tr>\n",
       "      <th>Y</th>\n",
       "      <td>219</td>\n",
       "      <td>219</td>\n",
       "      <td>219</td>\n",
       "      <td>219</td>\n",
       "      <td>219</td>\n",
       "      <td>219</td>\n",
       "      <td>219</td>\n",
       "    </tr>\n",
       "  </tbody>\n",
       "</table>\n",
       "</div>"
      ],
      "text/plain": [
       "                                   Application_ID  Dependents  Education  \\\n",
       "Married Gender Application_Status                                          \n",
       "No      Female N                               26          26         26   \n",
       "               Y                               40          40         40   \n",
       "        Male   N                               43          43         43   \n",
       "               Y                               71          71         71   \n",
       "Yes     Female N                                8           8          8   \n",
       "               Y                               17          17         17   \n",
       "        Male   N                               87          87         87   \n",
       "               Y                              219         219        219   \n",
       "\n",
       "                                   Self_Employed  Credit_History  \\\n",
       "Married Gender Application_Status                                  \n",
       "No      Female N                              26              26   \n",
       "               Y                              40              40   \n",
       "        Male   N                              43              43   \n",
       "               Y                              71              71   \n",
       "Yes     Female N                               8               8   \n",
       "               Y                              17              17   \n",
       "        Male   N                              87              87   \n",
       "               Y                             219             219   \n",
       "\n",
       "                                   Property_Area  Income  \n",
       "Married Gender Application_Status                         \n",
       "No      Female N                              26      26  \n",
       "               Y                              40      40  \n",
       "        Male   N                              43      43  \n",
       "               Y                              71      71  \n",
       "Yes     Female N                               8       8  \n",
       "               Y                              17      17  \n",
       "        Male   N                              87      87  \n",
       "               Y                             219     219  "
      ]
     },
     "execution_count": 210,
     "metadata": {},
     "output_type": "execute_result"
    }
   ],
   "source": [
    "loan.groupby(['Married','Gender','Application_Status']).count()"
   ]
  },
  {
   "cell_type": "code",
   "execution_count": 211,
   "id": "93e7743b",
   "metadata": {},
   "outputs": [
    {
     "name": "stdout",
     "output_type": "stream",
     "text": [
      "percentage of rejections for married male applicants 17 %\n"
     ]
    }
   ],
   "source": [
    "print(\"percentage of rejections for married male applicants\",round(87/511*100),\"%\")"
   ]
  },
  {
   "cell_type": "markdown",
   "id": "e38079bd",
   "metadata": {},
   "source": [
    "# Ques 4:\n",
    "Which property area has the maximum approval ratio"
   ]
  },
  {
   "cell_type": "code",
   "execution_count": 212,
   "id": "8285c7c5",
   "metadata": {},
   "outputs": [
    {
     "data": {
      "text/html": [
       "<div>\n",
       "<style scoped>\n",
       "    .dataframe tbody tr th:only-of-type {\n",
       "        vertical-align: middle;\n",
       "    }\n",
       "\n",
       "    .dataframe tbody tr th {\n",
       "        vertical-align: top;\n",
       "    }\n",
       "\n",
       "    .dataframe thead th {\n",
       "        text-align: right;\n",
       "    }\n",
       "</style>\n",
       "<table border=\"1\" class=\"dataframe\">\n",
       "  <thead>\n",
       "    <tr style=\"text-align: right;\">\n",
       "      <th></th>\n",
       "      <th></th>\n",
       "      <th>Application_ID</th>\n",
       "      <th>Gender</th>\n",
       "      <th>Married</th>\n",
       "      <th>Dependents</th>\n",
       "      <th>Education</th>\n",
       "      <th>Self_Employed</th>\n",
       "      <th>Credit_History</th>\n",
       "      <th>Income</th>\n",
       "    </tr>\n",
       "    <tr>\n",
       "      <th>Property_Area</th>\n",
       "      <th>Application_Status</th>\n",
       "      <th></th>\n",
       "      <th></th>\n",
       "      <th></th>\n",
       "      <th></th>\n",
       "      <th></th>\n",
       "      <th></th>\n",
       "      <th></th>\n",
       "      <th></th>\n",
       "    </tr>\n",
       "  </thead>\n",
       "  <tbody>\n",
       "    <tr>\n",
       "      <th rowspan=\"2\" valign=\"top\">Rural</th>\n",
       "      <th>N</th>\n",
       "      <td>59</td>\n",
       "      <td>59</td>\n",
       "      <td>59</td>\n",
       "      <td>59</td>\n",
       "      <td>59</td>\n",
       "      <td>59</td>\n",
       "      <td>59</td>\n",
       "      <td>59</td>\n",
       "    </tr>\n",
       "    <tr>\n",
       "      <th>Y</th>\n",
       "      <td>90</td>\n",
       "      <td>90</td>\n",
       "      <td>90</td>\n",
       "      <td>90</td>\n",
       "      <td>90</td>\n",
       "      <td>90</td>\n",
       "      <td>90</td>\n",
       "      <td>90</td>\n",
       "    </tr>\n",
       "    <tr>\n",
       "      <th rowspan=\"2\" valign=\"top\">Semiurban</th>\n",
       "      <th>N</th>\n",
       "      <td>44</td>\n",
       "      <td>44</td>\n",
       "      <td>44</td>\n",
       "      <td>44</td>\n",
       "      <td>44</td>\n",
       "      <td>44</td>\n",
       "      <td>44</td>\n",
       "      <td>44</td>\n",
       "    </tr>\n",
       "    <tr>\n",
       "      <th>Y</th>\n",
       "      <td>153</td>\n",
       "      <td>153</td>\n",
       "      <td>153</td>\n",
       "      <td>153</td>\n",
       "      <td>153</td>\n",
       "      <td>153</td>\n",
       "      <td>153</td>\n",
       "      <td>153</td>\n",
       "    </tr>\n",
       "    <tr>\n",
       "      <th rowspan=\"2\" valign=\"top\">Urban</th>\n",
       "      <th>N</th>\n",
       "      <td>61</td>\n",
       "      <td>61</td>\n",
       "      <td>61</td>\n",
       "      <td>61</td>\n",
       "      <td>61</td>\n",
       "      <td>61</td>\n",
       "      <td>61</td>\n",
       "      <td>61</td>\n",
       "    </tr>\n",
       "    <tr>\n",
       "      <th>Y</th>\n",
       "      <td>104</td>\n",
       "      <td>104</td>\n",
       "      <td>104</td>\n",
       "      <td>104</td>\n",
       "      <td>104</td>\n",
       "      <td>104</td>\n",
       "      <td>104</td>\n",
       "      <td>104</td>\n",
       "    </tr>\n",
       "  </tbody>\n",
       "</table>\n",
       "</div>"
      ],
      "text/plain": [
       "                                  Application_ID  Gender  Married  Dependents  \\\n",
       "Property_Area Application_Status                                                \n",
       "Rural         N                               59      59       59          59   \n",
       "              Y                               90      90       90          90   \n",
       "Semiurban     N                               44      44       44          44   \n",
       "              Y                              153     153      153         153   \n",
       "Urban         N                               61      61       61          61   \n",
       "              Y                              104     104      104         104   \n",
       "\n",
       "                                  Education  Self_Employed  Credit_History  \\\n",
       "Property_Area Application_Status                                             \n",
       "Rural         N                          59             59              59   \n",
       "              Y                          90             90              90   \n",
       "Semiurban     N                          44             44              44   \n",
       "              Y                         153            153             153   \n",
       "Urban         N                          61             61              61   \n",
       "              Y                         104            104             104   \n",
       "\n",
       "                                  Income  \n",
       "Property_Area Application_Status          \n",
       "Rural         N                       59  \n",
       "              Y                       90  \n",
       "Semiurban     N                       44  \n",
       "              Y                      153  \n",
       "Urban         N                       61  \n",
       "              Y                      104  "
      ]
     },
     "execution_count": 212,
     "metadata": {},
     "output_type": "execute_result"
    }
   ],
   "source": [
    "loan.groupby(['Property_Area','Application_Status']).count()"
   ]
  },
  {
   "cell_type": "code",
   "execution_count": 213,
   "id": "9c8335b7",
   "metadata": {},
   "outputs": [
    {
     "name": "stdout",
     "output_type": "stream",
     "text": [
      "property area in Rural approval_ratio 18 %\n",
      "property area in Semi Urban approval_ratio 30 %\n",
      "property area in Urban approval_ratio 20 %\n"
     ]
    }
   ],
   "source": [
    "print(\"property area in Rural approval_ratio\",round(90/511*100),\"%\")\n",
    "print(\"property area in Semi Urban approval_ratio\",round(153/511*100),\"%\")\n",
    "print(\"property area in Urban approval_ratio\",round(104/511*100),\"%\")"
   ]
  },
  {
   "cell_type": "markdown",
   "id": "7bd136fc",
   "metadata": {},
   "source": [
    "# property area in Semi Urban approval_ratio 30 %"
   ]
  },
  {
   "cell_type": "markdown",
   "id": "78ecfe11",
   "metadata": {},
   "source": [
    "# Ques 5:\n",
    "Find average number of dependents per income group."
   ]
  },
  {
   "cell_type": "code",
   "execution_count": 214,
   "id": "973d31a1",
   "metadata": {},
   "outputs": [
    {
     "data": {
      "text/html": [
       "<div>\n",
       "<style scoped>\n",
       "    .dataframe tbody tr th:only-of-type {\n",
       "        vertical-align: middle;\n",
       "    }\n",
       "\n",
       "    .dataframe tbody tr th {\n",
       "        vertical-align: top;\n",
       "    }\n",
       "\n",
       "    .dataframe thead th {\n",
       "        text-align: right;\n",
       "    }\n",
       "</style>\n",
       "<table border=\"1\" class=\"dataframe\">\n",
       "  <thead>\n",
       "    <tr style=\"text-align: right;\">\n",
       "      <th></th>\n",
       "      <th></th>\n",
       "      <th>Application_ID</th>\n",
       "      <th>Gender</th>\n",
       "      <th>Married</th>\n",
       "      <th>Education</th>\n",
       "      <th>Self_Employed</th>\n",
       "      <th>Credit_History</th>\n",
       "      <th>Property_Area</th>\n",
       "      <th>Application_Status</th>\n",
       "    </tr>\n",
       "    <tr>\n",
       "      <th>Income</th>\n",
       "      <th>Dependents</th>\n",
       "      <th></th>\n",
       "      <th></th>\n",
       "      <th></th>\n",
       "      <th></th>\n",
       "      <th></th>\n",
       "      <th></th>\n",
       "      <th></th>\n",
       "      <th></th>\n",
       "    </tr>\n",
       "  </thead>\n",
       "  <tbody>\n",
       "    <tr>\n",
       "      <th rowspan=\"4\" valign=\"top\">high</th>\n",
       "      <th>0</th>\n",
       "      <td>21</td>\n",
       "      <td>21</td>\n",
       "      <td>21</td>\n",
       "      <td>21</td>\n",
       "      <td>21</td>\n",
       "      <td>21</td>\n",
       "      <td>21</td>\n",
       "      <td>21</td>\n",
       "    </tr>\n",
       "    <tr>\n",
       "      <th>1</th>\n",
       "      <td>13</td>\n",
       "      <td>13</td>\n",
       "      <td>13</td>\n",
       "      <td>13</td>\n",
       "      <td>13</td>\n",
       "      <td>13</td>\n",
       "      <td>13</td>\n",
       "      <td>13</td>\n",
       "    </tr>\n",
       "    <tr>\n",
       "      <th>2</th>\n",
       "      <td>6</td>\n",
       "      <td>6</td>\n",
       "      <td>6</td>\n",
       "      <td>6</td>\n",
       "      <td>6</td>\n",
       "      <td>6</td>\n",
       "      <td>6</td>\n",
       "      <td>6</td>\n",
       "    </tr>\n",
       "    <tr>\n",
       "      <th>3</th>\n",
       "      <td>5</td>\n",
       "      <td>5</td>\n",
       "      <td>5</td>\n",
       "      <td>5</td>\n",
       "      <td>5</td>\n",
       "      <td>5</td>\n",
       "      <td>5</td>\n",
       "      <td>5</td>\n",
       "    </tr>\n",
       "    <tr>\n",
       "      <th rowspan=\"4\" valign=\"top\">low</th>\n",
       "      <th>0</th>\n",
       "      <td>173</td>\n",
       "      <td>173</td>\n",
       "      <td>173</td>\n",
       "      <td>173</td>\n",
       "      <td>173</td>\n",
       "      <td>173</td>\n",
       "      <td>173</td>\n",
       "      <td>173</td>\n",
       "    </tr>\n",
       "    <tr>\n",
       "      <th>1</th>\n",
       "      <td>42</td>\n",
       "      <td>42</td>\n",
       "      <td>42</td>\n",
       "      <td>42</td>\n",
       "      <td>42</td>\n",
       "      <td>42</td>\n",
       "      <td>42</td>\n",
       "      <td>42</td>\n",
       "    </tr>\n",
       "    <tr>\n",
       "      <th>2</th>\n",
       "      <td>41</td>\n",
       "      <td>41</td>\n",
       "      <td>41</td>\n",
       "      <td>41</td>\n",
       "      <td>41</td>\n",
       "      <td>41</td>\n",
       "      <td>41</td>\n",
       "      <td>41</td>\n",
       "    </tr>\n",
       "    <tr>\n",
       "      <th>3</th>\n",
       "      <td>17</td>\n",
       "      <td>17</td>\n",
       "      <td>17</td>\n",
       "      <td>17</td>\n",
       "      <td>17</td>\n",
       "      <td>17</td>\n",
       "      <td>17</td>\n",
       "      <td>17</td>\n",
       "    </tr>\n",
       "    <tr>\n",
       "      <th rowspan=\"4\" valign=\"top\">medium</th>\n",
       "      <th>0</th>\n",
       "      <td>100</td>\n",
       "      <td>100</td>\n",
       "      <td>100</td>\n",
       "      <td>100</td>\n",
       "      <td>100</td>\n",
       "      <td>100</td>\n",
       "      <td>100</td>\n",
       "      <td>100</td>\n",
       "    </tr>\n",
       "    <tr>\n",
       "      <th>1</th>\n",
       "      <td>30</td>\n",
       "      <td>30</td>\n",
       "      <td>30</td>\n",
       "      <td>30</td>\n",
       "      <td>30</td>\n",
       "      <td>30</td>\n",
       "      <td>30</td>\n",
       "      <td>30</td>\n",
       "    </tr>\n",
       "    <tr>\n",
       "      <th>2</th>\n",
       "      <td>41</td>\n",
       "      <td>41</td>\n",
       "      <td>41</td>\n",
       "      <td>41</td>\n",
       "      <td>41</td>\n",
       "      <td>41</td>\n",
       "      <td>41</td>\n",
       "      <td>41</td>\n",
       "    </tr>\n",
       "    <tr>\n",
       "      <th>3</th>\n",
       "      <td>22</td>\n",
       "      <td>22</td>\n",
       "      <td>22</td>\n",
       "      <td>22</td>\n",
       "      <td>22</td>\n",
       "      <td>22</td>\n",
       "      <td>22</td>\n",
       "      <td>22</td>\n",
       "    </tr>\n",
       "  </tbody>\n",
       "</table>\n",
       "</div>"
      ],
      "text/plain": [
       "                   Application_ID  Gender  Married  Education  Self_Employed  \\\n",
       "Income Dependents                                                              \n",
       "high   0                       21      21       21         21             21   \n",
       "       1                       13      13       13         13             13   \n",
       "       2                        6       6        6          6              6   \n",
       "       3                        5       5        5          5              5   \n",
       "low    0                      173     173      173        173            173   \n",
       "       1                       42      42       42         42             42   \n",
       "       2                       41      41       41         41             41   \n",
       "       3                       17      17       17         17             17   \n",
       "medium 0                      100     100      100        100            100   \n",
       "       1                       30      30       30         30             30   \n",
       "       2                       41      41       41         41             41   \n",
       "       3                       22      22       22         22             22   \n",
       "\n",
       "                   Credit_History  Property_Area  Application_Status  \n",
       "Income Dependents                                                     \n",
       "high   0                       21             21                  21  \n",
       "       1                       13             13                  13  \n",
       "       2                        6              6                   6  \n",
       "       3                        5              5                   5  \n",
       "low    0                      173            173                 173  \n",
       "       1                       42             42                  42  \n",
       "       2                       41             41                  41  \n",
       "       3                       17             17                  17  \n",
       "medium 0                      100            100                 100  \n",
       "       1                       30             30                  30  \n",
       "       2                       41             41                  41  \n",
       "       3                       22             22                  22  "
      ]
     },
     "execution_count": 214,
     "metadata": {},
     "output_type": "execute_result"
    }
   ],
   "source": [
    "loan1=loan.groupby(['Income','Dependents']).count()\n",
    "\n",
    "loan1"
   ]
  },
  {
   "cell_type": "code",
   "execution_count": 215,
   "id": "021c7b04",
   "metadata": {},
   "outputs": [
    {
     "name": "stdout",
     "output_type": "stream",
     "text": [
      "average number of dependents per income group(HIGH) 40\n",
      "average number of dependents per income group(LOW) 256\n",
      "average number of dependents per income group(MEDIUM) 171\n"
     ]
    }
   ],
   "source": [
    "print(\"average number of dependents per income group(HIGH)\",round(21+13+6+5/511))\n",
    "print(\"average number of dependents per income group(LOW)\",round(173+42+41+17/511))\n",
    "print(\"average number of dependents per income group(MEDIUM)\",round(100+30+41+22/511))"
   ]
  },
  {
   "cell_type": "code",
   "execution_count": 216,
   "id": "0cbad5b7",
   "metadata": {},
   "outputs": [
    {
     "data": {
      "text/html": [
       "<div>\n",
       "<style scoped>\n",
       "    .dataframe tbody tr th:only-of-type {\n",
       "        vertical-align: middle;\n",
       "    }\n",
       "\n",
       "    .dataframe tbody tr th {\n",
       "        vertical-align: top;\n",
       "    }\n",
       "\n",
       "    .dataframe thead th {\n",
       "        text-align: right;\n",
       "    }\n",
       "</style>\n",
       "<table border=\"1\" class=\"dataframe\">\n",
       "  <thead>\n",
       "    <tr style=\"text-align: right;\">\n",
       "      <th></th>\n",
       "      <th>Application_ID</th>\n",
       "      <th>Gender</th>\n",
       "      <th>Married</th>\n",
       "      <th>Dependents</th>\n",
       "      <th>Education</th>\n",
       "      <th>Self_Employed</th>\n",
       "      <th>Credit_History</th>\n",
       "      <th>Property_Area</th>\n",
       "      <th>Application_Status</th>\n",
       "    </tr>\n",
       "    <tr>\n",
       "      <th>Income</th>\n",
       "      <th></th>\n",
       "      <th></th>\n",
       "      <th></th>\n",
       "      <th></th>\n",
       "      <th></th>\n",
       "      <th></th>\n",
       "      <th></th>\n",
       "      <th></th>\n",
       "      <th></th>\n",
       "    </tr>\n",
       "  </thead>\n",
       "  <tbody>\n",
       "    <tr>\n",
       "      <th>high</th>\n",
       "      <td>45</td>\n",
       "      <td>45</td>\n",
       "      <td>45</td>\n",
       "      <td>45</td>\n",
       "      <td>45</td>\n",
       "      <td>45</td>\n",
       "      <td>45</td>\n",
       "      <td>45</td>\n",
       "      <td>45</td>\n",
       "    </tr>\n",
       "    <tr>\n",
       "      <th>low</th>\n",
       "      <td>273</td>\n",
       "      <td>273</td>\n",
       "      <td>273</td>\n",
       "      <td>273</td>\n",
       "      <td>273</td>\n",
       "      <td>273</td>\n",
       "      <td>273</td>\n",
       "      <td>273</td>\n",
       "      <td>273</td>\n",
       "    </tr>\n",
       "    <tr>\n",
       "      <th>medium</th>\n",
       "      <td>193</td>\n",
       "      <td>193</td>\n",
       "      <td>193</td>\n",
       "      <td>193</td>\n",
       "      <td>193</td>\n",
       "      <td>193</td>\n",
       "      <td>193</td>\n",
       "      <td>193</td>\n",
       "      <td>193</td>\n",
       "    </tr>\n",
       "  </tbody>\n",
       "</table>\n",
       "</div>"
      ],
      "text/plain": [
       "        Application_ID  Gender  Married  Dependents  Education  Self_Employed  \\\n",
       "Income                                                                          \n",
       "high                45      45       45          45         45             45   \n",
       "low                273     273      273         273        273            273   \n",
       "medium             193     193      193         193        193            193   \n",
       "\n",
       "        Credit_History  Property_Area  Application_Status  \n",
       "Income                                                     \n",
       "high                45             45                  45  \n",
       "low                273            273                 273  \n",
       "medium             193            193                 193  "
      ]
     },
     "execution_count": 216,
     "metadata": {},
     "output_type": "execute_result"
    }
   ],
   "source": [
    "loan.groupby(['Income']).count()"
   ]
  },
  {
   "cell_type": "markdown",
   "id": "674f1e5d",
   "metadata": {},
   "source": [
    "# Ques 6: \n",
    ". Find approval ratio for various combinations of Property_Area and Marrital status"
   ]
  },
  {
   "cell_type": "code",
   "execution_count": 217,
   "id": "0c971816",
   "metadata": {
    "scrolled": true
   },
   "outputs": [
    {
     "data": {
      "text/html": [
       "<div>\n",
       "<style scoped>\n",
       "    .dataframe tbody tr th:only-of-type {\n",
       "        vertical-align: middle;\n",
       "    }\n",
       "\n",
       "    .dataframe tbody tr th {\n",
       "        vertical-align: top;\n",
       "    }\n",
       "\n",
       "    .dataframe thead th {\n",
       "        text-align: right;\n",
       "    }\n",
       "</style>\n",
       "<table border=\"1\" class=\"dataframe\">\n",
       "  <thead>\n",
       "    <tr style=\"text-align: right;\">\n",
       "      <th></th>\n",
       "      <th></th>\n",
       "      <th></th>\n",
       "      <th>Application_ID</th>\n",
       "      <th>Dependents</th>\n",
       "      <th>Education</th>\n",
       "      <th>Self_Employed</th>\n",
       "      <th>Credit_History</th>\n",
       "      <th>Income</th>\n",
       "      <th>Application_Status</th>\n",
       "    </tr>\n",
       "    <tr>\n",
       "      <th>Property_Area</th>\n",
       "      <th>Married</th>\n",
       "      <th>Gender</th>\n",
       "      <th></th>\n",
       "      <th></th>\n",
       "      <th></th>\n",
       "      <th></th>\n",
       "      <th></th>\n",
       "      <th></th>\n",
       "      <th></th>\n",
       "    </tr>\n",
       "  </thead>\n",
       "  <tbody>\n",
       "    <tr>\n",
       "      <th rowspan=\"4\" valign=\"top\">Rural</th>\n",
       "      <th rowspan=\"2\" valign=\"top\">No</th>\n",
       "      <th>Female</th>\n",
       "      <td>16</td>\n",
       "      <td>16</td>\n",
       "      <td>16</td>\n",
       "      <td>16</td>\n",
       "      <td>16</td>\n",
       "      <td>16</td>\n",
       "      <td>16</td>\n",
       "    </tr>\n",
       "    <tr>\n",
       "      <th>Male</th>\n",
       "      <td>40</td>\n",
       "      <td>40</td>\n",
       "      <td>40</td>\n",
       "      <td>40</td>\n",
       "      <td>40</td>\n",
       "      <td>40</td>\n",
       "      <td>40</td>\n",
       "    </tr>\n",
       "    <tr>\n",
       "      <th rowspan=\"2\" valign=\"top\">Yes</th>\n",
       "      <th>Female</th>\n",
       "      <td>4</td>\n",
       "      <td>4</td>\n",
       "      <td>4</td>\n",
       "      <td>4</td>\n",
       "      <td>4</td>\n",
       "      <td>4</td>\n",
       "      <td>4</td>\n",
       "    </tr>\n",
       "    <tr>\n",
       "      <th>Male</th>\n",
       "      <td>89</td>\n",
       "      <td>89</td>\n",
       "      <td>89</td>\n",
       "      <td>89</td>\n",
       "      <td>89</td>\n",
       "      <td>89</td>\n",
       "      <td>89</td>\n",
       "    </tr>\n",
       "    <tr>\n",
       "      <th rowspan=\"4\" valign=\"top\">Semiurban</th>\n",
       "      <th rowspan=\"2\" valign=\"top\">No</th>\n",
       "      <th>Female</th>\n",
       "      <td>30</td>\n",
       "      <td>30</td>\n",
       "      <td>30</td>\n",
       "      <td>30</td>\n",
       "      <td>30</td>\n",
       "      <td>30</td>\n",
       "      <td>30</td>\n",
       "    </tr>\n",
       "    <tr>\n",
       "      <th>Male</th>\n",
       "      <td>38</td>\n",
       "      <td>38</td>\n",
       "      <td>38</td>\n",
       "      <td>38</td>\n",
       "      <td>38</td>\n",
       "      <td>38</td>\n",
       "      <td>38</td>\n",
       "    </tr>\n",
       "    <tr>\n",
       "      <th rowspan=\"2\" valign=\"top\">Yes</th>\n",
       "      <th>Female</th>\n",
       "      <td>15</td>\n",
       "      <td>15</td>\n",
       "      <td>15</td>\n",
       "      <td>15</td>\n",
       "      <td>15</td>\n",
       "      <td>15</td>\n",
       "      <td>15</td>\n",
       "    </tr>\n",
       "    <tr>\n",
       "      <th>Male</th>\n",
       "      <td>114</td>\n",
       "      <td>114</td>\n",
       "      <td>114</td>\n",
       "      <td>114</td>\n",
       "      <td>114</td>\n",
       "      <td>114</td>\n",
       "      <td>114</td>\n",
       "    </tr>\n",
       "    <tr>\n",
       "      <th rowspan=\"4\" valign=\"top\">Urban</th>\n",
       "      <th rowspan=\"2\" valign=\"top\">No</th>\n",
       "      <th>Female</th>\n",
       "      <td>20</td>\n",
       "      <td>20</td>\n",
       "      <td>20</td>\n",
       "      <td>20</td>\n",
       "      <td>20</td>\n",
       "      <td>20</td>\n",
       "      <td>20</td>\n",
       "    </tr>\n",
       "    <tr>\n",
       "      <th>Male</th>\n",
       "      <td>36</td>\n",
       "      <td>36</td>\n",
       "      <td>36</td>\n",
       "      <td>36</td>\n",
       "      <td>36</td>\n",
       "      <td>36</td>\n",
       "      <td>36</td>\n",
       "    </tr>\n",
       "    <tr>\n",
       "      <th rowspan=\"2\" valign=\"top\">Yes</th>\n",
       "      <th>Female</th>\n",
       "      <td>6</td>\n",
       "      <td>6</td>\n",
       "      <td>6</td>\n",
       "      <td>6</td>\n",
       "      <td>6</td>\n",
       "      <td>6</td>\n",
       "      <td>6</td>\n",
       "    </tr>\n",
       "    <tr>\n",
       "      <th>Male</th>\n",
       "      <td>103</td>\n",
       "      <td>103</td>\n",
       "      <td>103</td>\n",
       "      <td>103</td>\n",
       "      <td>103</td>\n",
       "      <td>103</td>\n",
       "      <td>103</td>\n",
       "    </tr>\n",
       "  </tbody>\n",
       "</table>\n",
       "</div>"
      ],
      "text/plain": [
       "                              Application_ID  Dependents  Education  \\\n",
       "Property_Area Married Gender                                          \n",
       "Rural         No      Female              16          16         16   \n",
       "                      Male                40          40         40   \n",
       "              Yes     Female               4           4          4   \n",
       "                      Male                89          89         89   \n",
       "Semiurban     No      Female              30          30         30   \n",
       "                      Male                38          38         38   \n",
       "              Yes     Female              15          15         15   \n",
       "                      Male               114         114        114   \n",
       "Urban         No      Female              20          20         20   \n",
       "                      Male                36          36         36   \n",
       "              Yes     Female               6           6          6   \n",
       "                      Male               103         103        103   \n",
       "\n",
       "                              Self_Employed  Credit_History  Income  \\\n",
       "Property_Area Married Gender                                          \n",
       "Rural         No      Female             16              16      16   \n",
       "                      Male               40              40      40   \n",
       "              Yes     Female              4               4       4   \n",
       "                      Male               89              89      89   \n",
       "Semiurban     No      Female             30              30      30   \n",
       "                      Male               38              38      38   \n",
       "              Yes     Female             15              15      15   \n",
       "                      Male              114             114     114   \n",
       "Urban         No      Female             20              20      20   \n",
       "                      Male               36              36      36   \n",
       "              Yes     Female              6               6       6   \n",
       "                      Male              103             103     103   \n",
       "\n",
       "                              Application_Status  \n",
       "Property_Area Married Gender                      \n",
       "Rural         No      Female                  16  \n",
       "                      Male                    40  \n",
       "              Yes     Female                   4  \n",
       "                      Male                    89  \n",
       "Semiurban     No      Female                  30  \n",
       "                      Male                    38  \n",
       "              Yes     Female                  15  \n",
       "                      Male                   114  \n",
       "Urban         No      Female                  20  \n",
       "                      Male                    36  \n",
       "              Yes     Female                   6  \n",
       "                      Male                   103  "
      ]
     },
     "execution_count": 217,
     "metadata": {},
     "output_type": "execute_result"
    }
   ],
   "source": [
    "loan.groupby(['Property_Area','Married','Gender']).count()\n"
   ]
  },
  {
   "cell_type": "code",
   "execution_count": 218,
   "id": "18220c14",
   "metadata": {},
   "outputs": [
    {
     "name": "stdout",
     "output_type": "stream",
     "text": [
      "property area in Rural_male_married approval_ratio 17 %\n",
      "property area in Rural_male_unmarried approval_ratio 8 %\n",
      "property area in Semi Urban_male_married approval_ratio 22 %\n",
      "property area in Semi Urban_male_unmarried approval_ratio 7 %\n",
      "property area in Urban_male_married approval_ratio 20 %\n",
      "property area in Urban_male_unmarried approval_ratio 7 %\n",
      "property area in Rural_female_married approval_ratio 1 %\n",
      "property area in Rural_female_unmarried approval_ratio 3 %\n",
      "property area in Semi Urban_female_married approval_ratio 3 %\n",
      "property area in Semi Urban_female_unmarried approval_ratio 6 %\n",
      "property area in Urban_female_married approval_ratio 1 %\n",
      "property area in Urban_female_unmarried approval_ratio 4 %\n"
     ]
    }
   ],
   "source": [
    "print(\"property area in Rural_male_married approval_ratio\",round(89/511*100),\"%\")\n",
    "print(\"property area in Rural_male_unmarried approval_ratio\",round(40/511*100),\"%\")\n",
    "print(\"property area in Semi Urban_male_married approval_ratio\",round(114/511*100),\"%\")\n",
    "print(\"property area in Semi Urban_male_unmarried approval_ratio\",round(38/511*100),\"%\")\n",
    "print(\"property area in Urban_male_married approval_ratio\",round(103/511*100),\"%\")\n",
    "print(\"property area in Urban_male_unmarried approval_ratio\",round(36/511*100),\"%\")\n",
    "\n",
    "print(\"property area in Rural_female_married approval_ratio\",round(4/511*100),\"%\")\n",
    "print(\"property area in Rural_female_unmarried approval_ratio\",round(16/511*100),\"%\")\n",
    "print(\"property area in Semi Urban_female_married approval_ratio\",round(15/511*100),\"%\")\n",
    "print(\"property area in Semi Urban_female_unmarried approval_ratio\",round(30/511*100),\"%\")\n",
    "print(\"property area in Urban_female_married approval_ratio\",round(6/511*100),\"%\")\n",
    "print(\"property area in Urban_female_unmarried approval_ratio\",round(20/511*100),\"%\")"
   ]
  },
  {
   "cell_type": "code",
   "execution_count": 338,
   "id": "e836cb4a",
   "metadata": {},
   "outputs": [
    {
     "name": "stdout",
     "output_type": "stream",
     "text": [
      "property area in Rural_married approval_ratio 90 %\n",
      "property area in Rural_unmarried approval_ratio 43 %\n",
      "property area in Semi Urban_married approval_ratio 117 %\n",
      "property area in Semi Urban_unmarried approval_ratio 44 %\n",
      "property area in Urban_married approval_ratio 104 %\n",
      "property area in Urban_unmarried approval_ratio 40 %\n"
     ]
    }
   ],
   "source": [
    "print(\"property area in Rural_married approval_ratio\",round(89+4/511*100),\"%\")\n",
    "print(\"property area in Rural_unmarried approval_ratio\",round(40+16/511*100),\"%\")\n",
    "print(\"property area in Semi Urban_married approval_ratio\",round(114+15/511*100),\"%\")\n",
    "print(\"property area in Semi Urban_unmarried approval_ratio\",round(38+30/511*100),\"%\")\n",
    "print(\"property area in Urban_married approval_ratio\",round(103+6/511*100),\"%\")\n",
    "print(\"property area in Urban_unmarried approval_ratio\",round(36+20/511*100),\"%\")\n",
    "\n",
    "\n",
    "\n"
   ]
  },
  {
   "cell_type": "code",
   "execution_count": 343,
   "id": "fd68fd36",
   "metadata": {},
   "outputs": [
    {
     "name": "stdout",
     "output_type": "stream",
     "text": [
      "+-----------------+------------------+----------------------+-------------------+\n",
      "| property_Area   | Marital_Status   |   Application_Status |   Approval_Ratio% |\n",
      "+=================+==================+======================+===================+\n",
      "| Rural           | Married          |                   93 |                90 |\n",
      "+-----------------+------------------+----------------------+-------------------+\n",
      "| Rural           | Unmarried        |                   56 |                43 |\n",
      "+-----------------+------------------+----------------------+-------------------+\n",
      "| SemiUrban       | Married          |                  129 |               117 |\n",
      "+-----------------+------------------+----------------------+-------------------+\n",
      "| SemiUrban       | UnMarried        |                   68 |                44 |\n",
      "+-----------------+------------------+----------------------+-------------------+\n",
      "| Urban           | Married          |                  109 |               104 |\n",
      "+-----------------+------------------+----------------------+-------------------+\n",
      "| Urban           | UnMarried        |                   56 |                40 |\n",
      "+-----------------+------------------+----------------------+-------------------+\n"
     ]
    }
   ],
   "source": [
    "from tabulate import tabulate\n",
    "my_data=[['Rural','Married',93,90],['Rural','Unmarried',56,43],['SemiUrban','Married',129,117],['SemiUrban','UnMarried',68,44],['Urban','Married',109,104],['Urban','UnMarried',56,40]]\n",
    "head=[\"property_Area\",\"Marital_Status\",\"Application_Status\",\"Approval_Ratio%\"]\n",
    "print(tabulate(my_data,headers=head,tablefmt='grid'))"
   ]
  },
  {
   "cell_type": "markdown",
   "id": "74d62693",
   "metadata": {},
   "source": [
    "# ques 7:\n",
    "Create a simple predictive model to assess whether a loan application will be approved or rejected and provide the accuracy score."
   ]
  },
  {
   "cell_type": "code",
   "execution_count": 219,
   "id": "c7a91261",
   "metadata": {},
   "outputs": [
    {
     "data": {
      "text/html": [
       "<div>\n",
       "<style scoped>\n",
       "    .dataframe tbody tr th:only-of-type {\n",
       "        vertical-align: middle;\n",
       "    }\n",
       "\n",
       "    .dataframe tbody tr th {\n",
       "        vertical-align: top;\n",
       "    }\n",
       "\n",
       "    .dataframe thead th {\n",
       "        text-align: right;\n",
       "    }\n",
       "</style>\n",
       "<table border=\"1\" class=\"dataframe\">\n",
       "  <thead>\n",
       "    <tr style=\"text-align: right;\">\n",
       "      <th></th>\n",
       "      <th>Application_ID</th>\n",
       "      <th>Gender</th>\n",
       "      <th>Married</th>\n",
       "      <th>Dependents</th>\n",
       "      <th>Education</th>\n",
       "      <th>Self_Employed</th>\n",
       "      <th>Credit_History</th>\n",
       "      <th>Property_Area</th>\n",
       "      <th>Income</th>\n",
       "      <th>Application_Status</th>\n",
       "    </tr>\n",
       "  </thead>\n",
       "  <tbody>\n",
       "    <tr>\n",
       "      <th>0</th>\n",
       "      <td>LP001002</td>\n",
       "      <td>Male</td>\n",
       "      <td>No</td>\n",
       "      <td>0</td>\n",
       "      <td>Graduate</td>\n",
       "      <td>No</td>\n",
       "      <td>1</td>\n",
       "      <td>Urban</td>\n",
       "      <td>medium</td>\n",
       "      <td>Y</td>\n",
       "    </tr>\n",
       "    <tr>\n",
       "      <th>1</th>\n",
       "      <td>LP001003</td>\n",
       "      <td>Male</td>\n",
       "      <td>Yes</td>\n",
       "      <td>1</td>\n",
       "      <td>Graduate</td>\n",
       "      <td>No</td>\n",
       "      <td>1</td>\n",
       "      <td>Rural</td>\n",
       "      <td>medium</td>\n",
       "      <td>N</td>\n",
       "    </tr>\n",
       "    <tr>\n",
       "      <th>2</th>\n",
       "      <td>LP001005</td>\n",
       "      <td>Male</td>\n",
       "      <td>Yes</td>\n",
       "      <td>0</td>\n",
       "      <td>Graduate</td>\n",
       "      <td>Yes</td>\n",
       "      <td>1</td>\n",
       "      <td>Urban</td>\n",
       "      <td>low</td>\n",
       "      <td>Y</td>\n",
       "    </tr>\n",
       "    <tr>\n",
       "      <th>3</th>\n",
       "      <td>LP001006</td>\n",
       "      <td>Male</td>\n",
       "      <td>Yes</td>\n",
       "      <td>0</td>\n",
       "      <td>Not Graduate</td>\n",
       "      <td>No</td>\n",
       "      <td>1</td>\n",
       "      <td>Urban</td>\n",
       "      <td>low</td>\n",
       "      <td>Y</td>\n",
       "    </tr>\n",
       "    <tr>\n",
       "      <th>4</th>\n",
       "      <td>LP001008</td>\n",
       "      <td>Male</td>\n",
       "      <td>No</td>\n",
       "      <td>0</td>\n",
       "      <td>Graduate</td>\n",
       "      <td>No</td>\n",
       "      <td>1</td>\n",
       "      <td>Urban</td>\n",
       "      <td>medium</td>\n",
       "      <td>Y</td>\n",
       "    </tr>\n",
       "  </tbody>\n",
       "</table>\n",
       "</div>"
      ],
      "text/plain": [
       "  Application_ID Gender Married Dependents     Education Self_Employed  \\\n",
       "0       LP001002   Male      No          0      Graduate            No   \n",
       "1       LP001003   Male     Yes          1      Graduate            No   \n",
       "2       LP001005   Male     Yes          0      Graduate           Yes   \n",
       "3       LP001006   Male     Yes          0  Not Graduate            No   \n",
       "4       LP001008   Male      No          0      Graduate            No   \n",
       "\n",
       "   Credit_History Property_Area  Income Application_Status  \n",
       "0               1         Urban  medium                  Y  \n",
       "1               1         Rural  medium                  N  \n",
       "2               1         Urban     low                  Y  \n",
       "3               1         Urban     low                  Y  \n",
       "4               1         Urban  medium                  Y  "
      ]
     },
     "execution_count": 219,
     "metadata": {},
     "output_type": "execute_result"
    }
   ],
   "source": [
    "loan.head()"
   ]
  },
  {
   "cell_type": "code",
   "execution_count": 220,
   "id": "8f8b09de",
   "metadata": {},
   "outputs": [],
   "source": [
    "loan.drop(['Application_ID'],axis=1,inplace=True)"
   ]
  },
  {
   "cell_type": "code",
   "execution_count": 221,
   "id": "c85e70bb",
   "metadata": {},
   "outputs": [
    {
     "data": {
      "text/html": [
       "<div>\n",
       "<style scoped>\n",
       "    .dataframe tbody tr th:only-of-type {\n",
       "        vertical-align: middle;\n",
       "    }\n",
       "\n",
       "    .dataframe tbody tr th {\n",
       "        vertical-align: top;\n",
       "    }\n",
       "\n",
       "    .dataframe thead th {\n",
       "        text-align: right;\n",
       "    }\n",
       "</style>\n",
       "<table border=\"1\" class=\"dataframe\">\n",
       "  <thead>\n",
       "    <tr style=\"text-align: right;\">\n",
       "      <th></th>\n",
       "      <th>Gender</th>\n",
       "      <th>Married</th>\n",
       "      <th>Dependents</th>\n",
       "      <th>Education</th>\n",
       "      <th>Self_Employed</th>\n",
       "      <th>Credit_History</th>\n",
       "      <th>Property_Area</th>\n",
       "      <th>Income</th>\n",
       "      <th>Application_Status</th>\n",
       "    </tr>\n",
       "  </thead>\n",
       "  <tbody>\n",
       "    <tr>\n",
       "      <th>0</th>\n",
       "      <td>Male</td>\n",
       "      <td>No</td>\n",
       "      <td>0</td>\n",
       "      <td>Graduate</td>\n",
       "      <td>No</td>\n",
       "      <td>1</td>\n",
       "      <td>Urban</td>\n",
       "      <td>medium</td>\n",
       "      <td>Y</td>\n",
       "    </tr>\n",
       "    <tr>\n",
       "      <th>1</th>\n",
       "      <td>Male</td>\n",
       "      <td>Yes</td>\n",
       "      <td>1</td>\n",
       "      <td>Graduate</td>\n",
       "      <td>No</td>\n",
       "      <td>1</td>\n",
       "      <td>Rural</td>\n",
       "      <td>medium</td>\n",
       "      <td>N</td>\n",
       "    </tr>\n",
       "    <tr>\n",
       "      <th>2</th>\n",
       "      <td>Male</td>\n",
       "      <td>Yes</td>\n",
       "      <td>0</td>\n",
       "      <td>Graduate</td>\n",
       "      <td>Yes</td>\n",
       "      <td>1</td>\n",
       "      <td>Urban</td>\n",
       "      <td>low</td>\n",
       "      <td>Y</td>\n",
       "    </tr>\n",
       "    <tr>\n",
       "      <th>3</th>\n",
       "      <td>Male</td>\n",
       "      <td>Yes</td>\n",
       "      <td>0</td>\n",
       "      <td>Not Graduate</td>\n",
       "      <td>No</td>\n",
       "      <td>1</td>\n",
       "      <td>Urban</td>\n",
       "      <td>low</td>\n",
       "      <td>Y</td>\n",
       "    </tr>\n",
       "    <tr>\n",
       "      <th>4</th>\n",
       "      <td>Male</td>\n",
       "      <td>No</td>\n",
       "      <td>0</td>\n",
       "      <td>Graduate</td>\n",
       "      <td>No</td>\n",
       "      <td>1</td>\n",
       "      <td>Urban</td>\n",
       "      <td>medium</td>\n",
       "      <td>Y</td>\n",
       "    </tr>\n",
       "    <tr>\n",
       "      <th>...</th>\n",
       "      <td>...</td>\n",
       "      <td>...</td>\n",
       "      <td>...</td>\n",
       "      <td>...</td>\n",
       "      <td>...</td>\n",
       "      <td>...</td>\n",
       "      <td>...</td>\n",
       "      <td>...</td>\n",
       "      <td>...</td>\n",
       "    </tr>\n",
       "    <tr>\n",
       "      <th>506</th>\n",
       "      <td>Female</td>\n",
       "      <td>No</td>\n",
       "      <td>0</td>\n",
       "      <td>Graduate</td>\n",
       "      <td>No</td>\n",
       "      <td>1</td>\n",
       "      <td>Rural</td>\n",
       "      <td>low</td>\n",
       "      <td>Y</td>\n",
       "    </tr>\n",
       "    <tr>\n",
       "      <th>507</th>\n",
       "      <td>Male</td>\n",
       "      <td>Yes</td>\n",
       "      <td>3</td>\n",
       "      <td>Graduate</td>\n",
       "      <td>No</td>\n",
       "      <td>1</td>\n",
       "      <td>Rural</td>\n",
       "      <td>medium</td>\n",
       "      <td>Y</td>\n",
       "    </tr>\n",
       "    <tr>\n",
       "      <th>508</th>\n",
       "      <td>Male</td>\n",
       "      <td>Yes</td>\n",
       "      <td>1</td>\n",
       "      <td>Graduate</td>\n",
       "      <td>No</td>\n",
       "      <td>1</td>\n",
       "      <td>Urban</td>\n",
       "      <td>medium</td>\n",
       "      <td>Y</td>\n",
       "    </tr>\n",
       "    <tr>\n",
       "      <th>509</th>\n",
       "      <td>Male</td>\n",
       "      <td>Yes</td>\n",
       "      <td>2</td>\n",
       "      <td>Graduate</td>\n",
       "      <td>No</td>\n",
       "      <td>1</td>\n",
       "      <td>Urban</td>\n",
       "      <td>medium</td>\n",
       "      <td>Y</td>\n",
       "    </tr>\n",
       "    <tr>\n",
       "      <th>510</th>\n",
       "      <td>Female</td>\n",
       "      <td>No</td>\n",
       "      <td>0</td>\n",
       "      <td>Graduate</td>\n",
       "      <td>Yes</td>\n",
       "      <td>0</td>\n",
       "      <td>Semiurban</td>\n",
       "      <td>medium</td>\n",
       "      <td>N</td>\n",
       "    </tr>\n",
       "  </tbody>\n",
       "</table>\n",
       "<p>511 rows × 9 columns</p>\n",
       "</div>"
      ],
      "text/plain": [
       "     Gender Married Dependents     Education Self_Employed  Credit_History  \\\n",
       "0      Male      No          0      Graduate            No               1   \n",
       "1      Male     Yes          1      Graduate            No               1   \n",
       "2      Male     Yes          0      Graduate           Yes               1   \n",
       "3      Male     Yes          0  Not Graduate            No               1   \n",
       "4      Male      No          0      Graduate            No               1   \n",
       "..      ...     ...        ...           ...           ...             ...   \n",
       "506  Female      No          0      Graduate            No               1   \n",
       "507    Male     Yes          3      Graduate            No               1   \n",
       "508    Male     Yes          1      Graduate            No               1   \n",
       "509    Male     Yes          2      Graduate            No               1   \n",
       "510  Female      No          0      Graduate           Yes               0   \n",
       "\n",
       "    Property_Area  Income Application_Status  \n",
       "0           Urban  medium                  Y  \n",
       "1           Rural  medium                  N  \n",
       "2           Urban     low                  Y  \n",
       "3           Urban     low                  Y  \n",
       "4           Urban  medium                  Y  \n",
       "..            ...     ...                ...  \n",
       "506         Rural     low                  Y  \n",
       "507         Rural  medium                  Y  \n",
       "508         Urban  medium                  Y  \n",
       "509         Urban  medium                  Y  \n",
       "510     Semiurban  medium                  N  \n",
       "\n",
       "[511 rows x 9 columns]"
      ]
     },
     "execution_count": 221,
     "metadata": {},
     "output_type": "execute_result"
    }
   ],
   "source": [
    "loan"
   ]
  },
  {
   "cell_type": "code",
   "execution_count": 222,
   "id": "7af933d3",
   "metadata": {},
   "outputs": [],
   "source": [
    "# convert it into numerical data form\n",
    "# lets lable encode the cloumns in the dataset\n",
    "from sklearn.preprocessing import LabelEncoder\n",
    "lm=LabelEncoder()\n",
    "loan['Gender']=lm.fit_transform(loan['Gender'])\n",
    "loan['Married']=lm.fit_transform(loan['Married'])\n",
    "loan['Education']=lm.fit_transform(loan['Education'])\n",
    "loan['Self_Employed']=lm.fit_transform(loan['Self_Employed'])\n",
    "loan['Property_Area']=lm.fit_transform(loan['Property_Area'])\n",
    "loan['Income']=lm.fit_transform(loan['Income'])\n",
    "loan['Application_Status']=lm.fit_transform(loan['Application_Status'])"
   ]
  },
  {
   "cell_type": "code",
   "execution_count": 223,
   "id": "8faf57f4",
   "metadata": {},
   "outputs": [
    {
     "data": {
      "text/html": [
       "<div>\n",
       "<style scoped>\n",
       "    .dataframe tbody tr th:only-of-type {\n",
       "        vertical-align: middle;\n",
       "    }\n",
       "\n",
       "    .dataframe tbody tr th {\n",
       "        vertical-align: top;\n",
       "    }\n",
       "\n",
       "    .dataframe thead th {\n",
       "        text-align: right;\n",
       "    }\n",
       "</style>\n",
       "<table border=\"1\" class=\"dataframe\">\n",
       "  <thead>\n",
       "    <tr style=\"text-align: right;\">\n",
       "      <th></th>\n",
       "      <th>Gender</th>\n",
       "      <th>Married</th>\n",
       "      <th>Dependents</th>\n",
       "      <th>Education</th>\n",
       "      <th>Self_Employed</th>\n",
       "      <th>Credit_History</th>\n",
       "      <th>Property_Area</th>\n",
       "      <th>Income</th>\n",
       "      <th>Application_Status</th>\n",
       "    </tr>\n",
       "  </thead>\n",
       "  <tbody>\n",
       "    <tr>\n",
       "      <th>0</th>\n",
       "      <td>1</td>\n",
       "      <td>0</td>\n",
       "      <td>0</td>\n",
       "      <td>0</td>\n",
       "      <td>0</td>\n",
       "      <td>1</td>\n",
       "      <td>2</td>\n",
       "      <td>2</td>\n",
       "      <td>1</td>\n",
       "    </tr>\n",
       "    <tr>\n",
       "      <th>1</th>\n",
       "      <td>1</td>\n",
       "      <td>1</td>\n",
       "      <td>1</td>\n",
       "      <td>0</td>\n",
       "      <td>0</td>\n",
       "      <td>1</td>\n",
       "      <td>0</td>\n",
       "      <td>2</td>\n",
       "      <td>0</td>\n",
       "    </tr>\n",
       "    <tr>\n",
       "      <th>2</th>\n",
       "      <td>1</td>\n",
       "      <td>1</td>\n",
       "      <td>0</td>\n",
       "      <td>0</td>\n",
       "      <td>1</td>\n",
       "      <td>1</td>\n",
       "      <td>2</td>\n",
       "      <td>1</td>\n",
       "      <td>1</td>\n",
       "    </tr>\n",
       "    <tr>\n",
       "      <th>3</th>\n",
       "      <td>1</td>\n",
       "      <td>1</td>\n",
       "      <td>0</td>\n",
       "      <td>1</td>\n",
       "      <td>0</td>\n",
       "      <td>1</td>\n",
       "      <td>2</td>\n",
       "      <td>1</td>\n",
       "      <td>1</td>\n",
       "    </tr>\n",
       "    <tr>\n",
       "      <th>4</th>\n",
       "      <td>1</td>\n",
       "      <td>0</td>\n",
       "      <td>0</td>\n",
       "      <td>0</td>\n",
       "      <td>0</td>\n",
       "      <td>1</td>\n",
       "      <td>2</td>\n",
       "      <td>2</td>\n",
       "      <td>1</td>\n",
       "    </tr>\n",
       "  </tbody>\n",
       "</table>\n",
       "</div>"
      ],
      "text/plain": [
       "   Gender  Married Dependents  Education  Self_Employed  Credit_History  \\\n",
       "0       1        0          0          0              0               1   \n",
       "1       1        1          1          0              0               1   \n",
       "2       1        1          0          0              1               1   \n",
       "3       1        1          0          1              0               1   \n",
       "4       1        0          0          0              0               1   \n",
       "\n",
       "   Property_Area  Income  Application_Status  \n",
       "0              2       2                   1  \n",
       "1              0       2                   0  \n",
       "2              2       1                   1  \n",
       "3              2       1                   1  \n",
       "4              2       2                   1  "
      ]
     },
     "execution_count": 223,
     "metadata": {},
     "output_type": "execute_result"
    }
   ],
   "source": [
    "loan.head()"
   ]
  },
  {
   "cell_type": "code",
   "execution_count": 242,
   "id": "f04b4889",
   "metadata": {},
   "outputs": [],
   "source": [
    "from sklearn.model_selection import train_test_split\n",
    "X_under=loan.iloc[:,0:8]\n",
    "Y_under=loan.iloc[:,8]"
   ]
  },
  {
   "cell_type": "code",
   "execution_count": 312,
   "id": "0e28e521",
   "metadata": {},
   "outputs": [],
   "source": [
    "x_train,x_test,y_train,y_test=train_test_split(X_under,Y_under,test_size=0.33,random_state=10)"
   ]
  },
  {
   "cell_type": "code",
   "execution_count": 313,
   "id": "8affdd2b",
   "metadata": {},
   "outputs": [],
   "source": [
    "# logistice Regression\n",
    "from sklearn.linear_model import LogisticRegression\n",
    "from sklearn.metrics import accuracy_score as ac\n",
    "from sklearn.metrics import confusion_matrix\n",
    "from sklearn.metrics import classification_report\n"
   ]
  },
  {
   "cell_type": "code",
   "execution_count": 314,
   "id": "7a129998",
   "metadata": {},
   "outputs": [
    {
     "data": {
      "text/plain": [
       "LogisticRegression()"
      ]
     },
     "execution_count": 314,
     "metadata": {},
     "output_type": "execute_result"
    }
   ],
   "source": [
    "model=LogisticRegression()\n",
    "model.fit(x_train,y_train)"
   ]
  },
  {
   "cell_type": "code",
   "execution_count": 315,
   "id": "cabf716a",
   "metadata": {},
   "outputs": [
    {
     "data": {
      "text/plain": [
       "array([1, 1, 1, 1, 1, 1, 1, 1, 1, 1, 1, 1, 1, 1, 1, 1, 1, 1, 1, 1, 0, 1,\n",
       "       1, 1, 1, 1, 0, 1, 0, 1, 1, 1, 1, 1, 1, 1, 1, 1, 0, 1, 1, 1, 1, 0,\n",
       "       1, 1, 1, 0, 0, 1, 1, 1, 0, 1, 0, 1, 0, 0, 1, 1, 1, 1, 0, 1, 1, 1,\n",
       "       1, 1, 0, 1, 1, 0, 0, 1, 1, 1, 0, 1, 1, 1, 0, 1, 1, 1, 1, 1, 1, 1,\n",
       "       0, 1, 1, 0, 1, 1, 1, 1, 1, 0, 1, 1, 0, 1, 1, 1, 1, 1, 1, 1, 1, 1,\n",
       "       1, 1, 1, 1, 1, 1, 1, 1, 1, 1, 1, 1, 1, 0, 0, 0, 1, 1, 1, 1, 1, 0,\n",
       "       1, 0, 1, 1, 1, 1, 0, 1, 1, 1, 1, 1, 0, 1, 1, 0, 1, 1, 0, 1, 1, 1,\n",
       "       1, 1, 1, 1, 1, 1, 1, 1, 1, 1, 1, 1, 1, 1, 1])"
      ]
     },
     "execution_count": 315,
     "metadata": {},
     "output_type": "execute_result"
    }
   ],
   "source": [
    "y_pred=model.predict(x_test)\n",
    "y_pred"
   ]
  },
  {
   "cell_type": "code",
   "execution_count": 316,
   "id": "24d051c2",
   "metadata": {},
   "outputs": [
    {
     "name": "stdout",
     "output_type": "stream",
     "text": [
      "[[ 26  27]\n",
      " [  4 112]]\n"
     ]
    }
   ],
   "source": [
    "# to find the confusion matrix and accurcay\n",
    "\n",
    "confusion_matrix=confusion_matrix(y_test,y_pred)\n",
    "print(confusion_matrix)"
   ]
  },
  {
   "cell_type": "code",
   "execution_count": 317,
   "id": "3bc36194",
   "metadata": {},
   "outputs": [
    {
     "data": {
      "text/plain": [
       "0.8165680473372781"
      ]
     },
     "execution_count": 317,
     "metadata": {},
     "output_type": "execute_result"
    }
   ],
   "source": [
    "ac(y_test,y_pred)"
   ]
  },
  {
   "cell_type": "code",
   "execution_count": 318,
   "id": "0c261c2d",
   "metadata": {},
   "outputs": [
    {
     "name": "stdout",
     "output_type": "stream",
     "text": [
      "              precision    recall  f1-score   support\n",
      "\n",
      "           0       0.87      0.49      0.63        53\n",
      "           1       0.81      0.97      0.88       116\n",
      "\n",
      "    accuracy                           0.82       169\n",
      "   macro avg       0.84      0.73      0.75       169\n",
      "weighted avg       0.82      0.82      0.80       169\n",
      "\n"
     ]
    }
   ],
   "source": [
    "print(classification_report(y_test,y_pred))"
   ]
  },
  {
   "cell_type": "markdown",
   "id": "188088f9",
   "metadata": {},
   "source": [
    "# SVM MODEL"
   ]
  },
  {
   "cell_type": "code",
   "execution_count": 319,
   "id": "a6dbc4ed",
   "metadata": {},
   "outputs": [],
   "source": [
    "from sklearn import svm\n",
    "from sklearn.svm import SVC\n",
    "from sklearn.model_selection import GridSearchCV\n",
    "from sklearn.metrics import classification_report\n",
    "\n",
    "\n",
    "from sklearn.metrics import accuracy_score, confusion_matrix\n",
    "from sklearn.model_selection import train_test_split, cross_val_score\n"
   ]
  },
  {
   "cell_type": "code",
   "execution_count": 320,
   "id": "02cdce79",
   "metadata": {},
   "outputs": [
    {
     "name": "stdout",
     "output_type": "stream",
     "text": [
      "Accuracy = 82.24852071005917\n",
      "Train_Accuracy_score= {} 80.12\n",
      "Test_Accuracy Score= {} 82.25\n"
     ]
    }
   ],
   "source": [
    "clf = SVC(kernel=\"rbf\")\n",
    "\n",
    "clf.fit(x_train , y_train)\n",
    "y_pred_svm = clf.predict(x_test)\n",
    "acc = accuracy_score(y_test, y_pred_svm) * 100\n",
    "print(\"Accuracy =\", acc)\n",
    "confusion_matrix(y_test, y_pred_svm)\n",
    "train_acc_svm=round(clf.score(x_train, y_train) * 100, 2)\n",
    "test_acc_svm=round(accuracy_score(y_test,y_pred_svm)*100,2)\n",
    "print('Train_Accuracy_score= {}',(train_acc_svm))\n",
    "print(\"Test_Accuracy Score= {}\",(test_acc_svm))"
   ]
  },
  {
   "cell_type": "code",
   "execution_count": 321,
   "id": "0320c804",
   "metadata": {},
   "outputs": [
    {
     "name": "stdout",
     "output_type": "stream",
     "text": [
      "Classification report: {}               precision    recall  f1-score   support\n",
      "\n",
      "           0       0.90      0.49      0.63        53\n",
      "           1       0.81      0.97      0.88       116\n",
      "\n",
      "    accuracy                           0.82       169\n",
      "   macro avg       0.85      0.73      0.76       169\n",
      "weighted avg       0.84      0.82      0.80       169\n",
      "\n"
     ]
    }
   ],
   "source": [
    "print(\"Classification report: {}\",(classification_report(y_test,y_pred_svm)))"
   ]
  },
  {
   "cell_type": "markdown",
   "id": "99d2f1db",
   "metadata": {},
   "source": [
    "# Desicion Tree"
   ]
  },
  {
   "cell_type": "code",
   "execution_count": 322,
   "id": "b829faaa",
   "metadata": {},
   "outputs": [],
   "source": [
    "from sklearn.tree import DecisionTreeClassifier,DecisionTreeRegressor\n",
    "from sklearn.tree import plot_tree"
   ]
  },
  {
   "cell_type": "code",
   "execution_count": 323,
   "id": "4fc8753d",
   "metadata": {},
   "outputs": [
    {
     "data": {
      "text/plain": [
       "DecisionTreeRegressor(max_depth=3, random_state=10)"
      ]
     },
     "execution_count": 323,
     "metadata": {},
     "output_type": "execute_result"
    }
   ],
   "source": [
    "model_tree=DecisionTreeRegressor(max_depth=3,random_state=10)\n",
    "model_tree.fit(x_train,y_train)"
   ]
  },
  {
   "cell_type": "code",
   "execution_count": 324,
   "id": "3386ed22",
   "metadata": {},
   "outputs": [
    {
     "data": {
      "text/plain": [
       "array([0.85606061, 0.85606061, 0.85606061, 0.71590909, 0.76190476,\n",
       "       0.71590909, 0.71590909, 0.76190476, 0.85606061, 0.85606061,\n",
       "       0.71590909, 0.71590909, 0.71590909, 0.71590909, 0.85606061,\n",
       "       0.76190476, 0.71590909, 0.85606061, 0.71590909, 0.85606061,\n",
       "       0.28571429, 0.85606061, 0.71590909, 0.71590909, 0.71590909,\n",
       "       0.85606061, 0.        , 0.71590909, 0.        , 0.71590909,\n",
       "       0.71590909, 0.76190476, 0.76190476, 0.85606061, 0.76190476,\n",
       "       0.76190476, 0.85606061, 0.71590909, 0.        , 0.71590909,\n",
       "       0.85606061, 0.85606061, 0.85606061, 0.        , 0.71590909,\n",
       "       0.85606061, 0.71590909, 0.28571429, 0.28571429, 0.85606061,\n",
       "       0.76190476, 0.85606061, 0.        , 0.85606061, 0.        ,\n",
       "       0.71590909, 0.28571429, 0.        , 0.71590909, 0.71590909,\n",
       "       0.71590909, 0.71590909, 0.        , 0.85606061, 0.85606061,\n",
       "       0.71590909, 0.85606061, 0.85606061, 0.        , 0.71590909,\n",
       "       0.71590909, 0.        , 0.        , 0.85606061, 0.76190476,\n",
       "       0.76190476, 0.        , 0.76190476, 0.76190476, 0.76190476,\n",
       "       0.        , 0.76190476, 0.71590909, 0.76190476, 0.85606061,\n",
       "       0.76190476, 0.71590909, 0.76190476, 0.        , 0.71590909,\n",
       "       0.71590909, 0.375     , 0.85606061, 0.85606061, 0.85606061,\n",
       "       0.85606061, 0.76190476, 0.28571429, 0.76190476, 0.76190476,\n",
       "       0.28571429, 0.71590909, 0.76190476, 0.85606061, 0.85606061,\n",
       "       0.76190476, 0.85606061, 0.71590909, 0.85606061, 0.71590909,\n",
       "       0.85606061, 0.71590909, 0.71590909, 0.85606061, 0.85606061,\n",
       "       0.85606061, 0.71590909, 0.76190476, 0.85606061, 0.85606061,\n",
       "       0.76190476, 0.71590909, 0.375     , 0.28571429, 0.        ,\n",
       "       0.28571429, 0.85606061, 0.71590909, 0.85606061, 0.71590909,\n",
       "       0.71590909, 0.28571429, 0.85606061, 0.        , 0.71590909,\n",
       "       0.76190476, 0.85606061, 0.375     , 0.28571429, 0.71590909,\n",
       "       0.71590909, 0.85606061, 0.76190476, 0.85606061, 0.        ,\n",
       "       0.71590909, 0.76190476, 0.        , 0.85606061, 0.85606061,\n",
       "       0.28571429, 0.71590909, 0.85606061, 0.85606061, 0.71590909,\n",
       "       0.71590909, 0.85606061, 0.71590909, 0.85606061, 0.85606061,\n",
       "       0.85606061, 0.85606061, 0.375     , 0.85606061, 0.76190476,\n",
       "       0.85606061, 0.71590909, 0.85606061, 0.85606061])"
      ]
     },
     "execution_count": 324,
     "metadata": {},
     "output_type": "execute_result"
    }
   ],
   "source": [
    "# use metrics\n",
    "from sklearn import metrics\n",
    "y_pred=model_tree.predict(x_test)\n",
    "y_pred"
   ]
  },
  {
   "cell_type": "code",
   "execution_count": 325,
   "id": "9c0e3180",
   "metadata": {},
   "outputs": [
    {
     "data": {
      "text/plain": [
       "[Text(0.4583333333333333, 0.875, 'X[5] <= 0.5\\nsquared_error = 0.219\\nsamples = 342\\nvalue = 0.675'),\n",
       " Text(0.25, 0.625, 'X[6] <= 1.5\\nsquared_error = 0.072\\nsamples = 51\\nvalue = 0.078'),\n",
       " Text(0.16666666666666666, 0.375, 'X[6] <= 0.5\\nsquared_error = 0.109\\nsamples = 32\\nvalue = 0.125'),\n",
       " Text(0.08333333333333333, 0.125, 'squared_error = 0.0\\nsamples = 18\\nvalue = 0.0'),\n",
       " Text(0.25, 0.125, 'squared_error = 0.204\\nsamples = 14\\nvalue = 0.286'),\n",
       " Text(0.3333333333333333, 0.375, 'squared_error = 0.0\\nsamples = 19\\nvalue = 0.0'),\n",
       " Text(0.6666666666666666, 0.625, 'X[1] <= 0.5\\nsquared_error = 0.172\\nsamples = 291\\nvalue = 0.78'),\n",
       " Text(0.5, 0.375, 'X[7] <= 0.5\\nsquared_error = 0.215\\nsamples = 96\\nvalue = 0.688'),\n",
       " Text(0.4166666666666667, 0.125, 'squared_error = 0.234\\nsamples = 8\\nvalue = 0.375'),\n",
       " Text(0.5833333333333334, 0.125, 'squared_error = 0.203\\nsamples = 88\\nvalue = 0.716'),\n",
       " Text(0.8333333333333334, 0.375, 'X[6] <= 1.5\\nsquared_error = 0.144\\nsamples = 195\\nvalue = 0.826'),\n",
       " Text(0.75, 0.125, 'squared_error = 0.123\\nsamples = 132\\nvalue = 0.856'),\n",
       " Text(0.9166666666666666, 0.125, 'squared_error = 0.181\\nsamples = 63\\nvalue = 0.762')]"
      ]
     },
     "execution_count": 325,
     "metadata": {},
     "output_type": "execute_result"
    },
    {
     "data": {
      "image/png": "[encoded data removed]",
      "text/plain": [
       "<Figure size 432x288 with 1 Axes>"
      ]
     },
     "metadata": {
      "needs_background": "light"
     },
     "output_type": "display_data"
    }
   ],
   "source": [
    "# lets plot a tree\n",
    "plot_tree(model_tree)"
   ]
  },
  {
   "cell_type": "code",
   "execution_count": 326,
   "id": "4e390215",
   "metadata": {},
   "outputs": [
    {
     "data": {
      "text/plain": [
       "DecisionTreeClassifier(max_depth=4)"
      ]
     },
     "execution_count": 326,
     "metadata": {},
     "output_type": "execute_result"
    }
   ],
   "source": [
    "model1=DecisionTreeClassifier(criterion='gini',max_depth=4)\n",
    "model1.fit(x_train,y_train)"
   ]
  },
  {
   "cell_type": "code",
   "execution_count": 327,
   "id": "0364b254",
   "metadata": {},
   "outputs": [
    {
     "data": {
      "text/plain": [
       "array([0.        , 0.0456043 , 0.01061401, 0.        , 0.00528871,\n",
       "       0.79361538, 0.09618984, 0.04868776])"
      ]
     },
     "execution_count": 327,
     "metadata": {},
     "output_type": "execute_result"
    }
   ],
   "source": [
    "importance= model1.feature_importances_\n",
    "importance\n"
   ]
  },
  {
   "cell_type": "code",
   "execution_count": 328,
   "id": "f4d8b191",
   "metadata": {},
   "outputs": [
    {
     "data": {
      "text/plain": [
       "1    140\n",
       "0     29\n",
       "dtype: int64"
      ]
     },
     "execution_count": 328,
     "metadata": {},
     "output_type": "execute_result"
    }
   ],
   "source": [
    "y_pred=model1.predict(x_test)\n",
    "pd.Series(y_pred).value_counts()"
   ]
  },
  {
   "cell_type": "code",
   "execution_count": 332,
   "id": "bad763a6",
   "metadata": {},
   "outputs": [
    {
     "data": {
      "text/plain": [
       "0.8224852071005917"
      ]
     },
     "execution_count": 332,
     "metadata": {},
     "output_type": "execute_result"
    }
   ],
   "source": [
    "#check for accurcy\n",
    "ac=accuracy_score(y_pred,y_test)\n",
    "ac"
   ]
  },
  {
   "cell_type": "code",
   "execution_count": 333,
   "id": "dd0b87ce",
   "metadata": {},
   "outputs": [
    {
     "name": "stdout",
     "output_type": "stream",
     "text": [
      "              precision    recall  f1-score   support\n",
      "\n",
      "           0       0.49      0.90      0.63        29\n",
      "           1       0.97      0.81      0.88       140\n",
      "\n",
      "    accuracy                           0.82       169\n",
      "   macro avg       0.73      0.85      0.76       169\n",
      "weighted avg       0.89      0.82      0.84       169\n",
      "\n"
     ]
    }
   ],
   "source": [
    "from sklearn.metrics import classification_report\n",
    "from sklearn.metrics import confusion_matrix\n",
    "print (classification_report(y_pred,y_test))"
   ]
  },
  {
   "cell_type": "markdown",
   "id": "94decf7c",
   "metadata": {},
   "source": [
    "# Random Forest"
   ]
  },
  {
   "cell_type": "code",
   "execution_count": 334,
   "id": "dad4c06e",
   "metadata": {},
   "outputs": [],
   "source": [
    "from sklearn.ensemble import RandomForestClassifier\n",
    "rf=RandomForestClassifier(n_estimators=60,random_state=25)\n",
    "rf.fit(x_train,y_train)\n",
    "from sklearn.metrics import accuracy_score,classification_report,confusion_matrix\n",
    "y_pred_rf=rf.predict(x_test)\n"
   ]
  },
  {
   "cell_type": "code",
   "execution_count": 335,
   "id": "93884507",
   "metadata": {},
   "outputs": [
    {
     "name": "stdout",
     "output_type": "stream",
     "text": [
      "[[31 22]\n",
      " [20 96]]\n",
      "total accuracy={} 0.8224852071005917\n",
      "Train_Accuracy_score= {} 89.47\n",
      "Test_Accuracy Score= {} 75.15\n"
     ]
    }
   ],
   "source": [
    "print(confusion_matrix(y_test,y_pred_rf))\n",
    "acc=accuracy_score(y_test,y_pred)\n",
    "train_acc_rf=round(rf.score(x_train, y_train) * 100, 2)\n",
    "test_acc_rf=round(accuracy_score(y_test,y_pred_rf)*100,2)\n",
    "print('total accuracy={}',(acc))\n",
    "print('Train_Accuracy_score= {}',(train_acc_rf))\n",
    "print(\"Test_Accuracy Score= {}\",(test_acc_rf))\n"
   ]
  },
  {
   "cell_type": "code",
   "execution_count": 336,
   "id": "18b68070",
   "metadata": {},
   "outputs": [
    {
     "name": "stdout",
     "output_type": "stream",
     "text": [
      "Classification report: {}               precision    recall  f1-score   support\n",
      "\n",
      "           0       0.61      0.58      0.60        53\n",
      "           1       0.81      0.83      0.82       116\n",
      "\n",
      "    accuracy                           0.75       169\n",
      "   macro avg       0.71      0.71      0.71       169\n",
      "weighted avg       0.75      0.75      0.75       169\n",
      "\n"
     ]
    }
   ],
   "source": [
    "\n",
    "print(\"Classification report: {}\",(classification_report(y_test,y_pred_rf)))"
   ]
  },
  {
   "cell_type": "code",
   "execution_count": null,
   "id": "49511842",
   "metadata": {},
   "outputs": [],
   "source": [
    "# Decision Tree And SVM  model has high Accuracy"
   ]
  },
  {
   "cell_type": "code",
   "execution_count": null,
   "id": "63ebbd8e",
   "metadata": {},
   "outputs": [],
   "source": []
  }
 ],
 "metadata": {
  "kernelspec": {
   "display_name": "Python 3",
   "language": "python",
   "name": "python3"
  },
  "language_info": {
   "codemirror_mode": {
    "name": "ipython",
    "version": 3
   },
   "file_extension": ".py",
   "mimetype": "text/x-python",
   "name": "python",
   "nbconvert_exporter": "python",
   "pygments_lexer": "ipython3",
   "version": "3.8.8"
  }
 },
 "nbformat": 4,
 "nbformat_minor": 5
}
